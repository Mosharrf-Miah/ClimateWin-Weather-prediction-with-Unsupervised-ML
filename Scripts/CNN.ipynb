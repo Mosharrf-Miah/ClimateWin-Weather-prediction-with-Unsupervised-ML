{
 "cells": [
  {
   "cell_type": "markdown",
   "id": "17eb2061-cb22-4343-980f-a3e56fbfd1ab",
   "metadata": {},
   "source": [
    "# Convolution Neural Network (CNN)"
   ]
  },
  {
   "cell_type": "markdown",
   "id": "488f947c-107d-4c0f-8e15-511b94d13ce0",
   "metadata": {},
   "source": [
    "### This script contains the following:\n",
    "#### 1. Importing Libraries and Data\n",
    "#### 2. Data wrangling\n",
    "#### 3. Data Reshape \n",
    "#### 4. Data Splitting\n",
    "#### 5. Creating Keras\n",
    "#### 6. Running Model - Softmax\n",
    "#### 7. Confusion Matrix\n",
    "#### 8. Tanh\n",
    "#### 9. sigmoid\n",
    "#### 10. Relu"
   ]
  },
  {
   "cell_type": "markdown",
   "id": "519a8b0f-d64e-40f1-8c22-f5804ece8d4e",
   "metadata": {},
   "source": [
    "### 1. Importing Libraries and Data"
   ]
  },
  {
   "cell_type": "code",
   "execution_count": 1,
   "id": "1f06317e-e722-426a-bdb8-8ae26725093c",
   "metadata": {},
   "outputs": [],
   "source": [
    "import pandas as pd\n",
    "import numpy as np\n",
    "import seaborn as sns\n",
    "import os\n",
    "import operator\n",
    "import matplotlib.pyplot as plt\n",
    "import tensorflow as tf\n",
    "from tensorflow import keras\n",
    "from numpy import unique\n",
    "from numpy import reshape\n",
    "from keras.models import Sequential\n",
    "from keras.layers import Conv1D, Conv2D, Dense, BatchNormalization, Flatten, MaxPooling1D, Dropout\n",
    "from keras.utils import to_categorical\n",
    "from sklearn.model_selection import train_test_split\n",
    "from sklearn.preprocessing import LabelEncoder\n",
    "\n",
    "\n",
    "import warnings\n",
    "warnings.filterwarnings(\"ignore\")"
   ]
  },
  {
   "cell_type": "code",
   "execution_count": 2,
   "id": "ae004fd7-7995-4a56-b917-bc3e6e9d5f7c",
   "metadata": {},
   "outputs": [],
   "source": [
    "path = r'C:\\Users\\mosh_\\OneDrive\\Desktop\\Career Foundry\\Machine Learning with Python\\Achievement 2- Real-world appllication of Machine Learning\\Data Sets'"
   ]
  },
  {
   "cell_type": "code",
   "execution_count": 3,
   "id": "c468e13a-b2a7-413f-81f3-870befa9e692",
   "metadata": {},
   "outputs": [
    {
     "data": {
      "text/plain": [
       "'C:\\\\Users\\\\mosh_\\\\OneDrive\\\\Desktop\\\\Career Foundry\\\\Machine Learning with Python\\\\Achievement 2- Real-world appllication of Machine Learning\\\\Data Sets'"
      ]
     },
     "execution_count": 3,
     "metadata": {},
     "output_type": "execute_result"
    }
   ],
   "source": [
    "path"
   ]
  },
  {
   "cell_type": "code",
   "execution_count": 4,
   "id": "6f609132-6d5d-427f-a868-f7d81679910c",
   "metadata": {},
   "outputs": [
    {
     "data": {
      "text/html": [
       "<div>\n",
       "<style scoped>\n",
       "    .dataframe tbody tr th:only-of-type {\n",
       "        vertical-align: middle;\n",
       "    }\n",
       "\n",
       "    .dataframe tbody tr th {\n",
       "        vertical-align: top;\n",
       "    }\n",
       "\n",
       "    .dataframe thead th {\n",
       "        text-align: right;\n",
       "    }\n",
       "</style>\n",
       "<table border=\"1\" class=\"dataframe\">\n",
       "  <thead>\n",
       "    <tr style=\"text-align: right;\">\n",
       "      <th></th>\n",
       "      <th>DATE</th>\n",
       "      <th>MONTH</th>\n",
       "      <th>BASEL_cloud_cover</th>\n",
       "      <th>BASEL_wind_speed</th>\n",
       "      <th>BASEL_humidity</th>\n",
       "      <th>BASEL_pressure</th>\n",
       "      <th>BASEL_global_radiation</th>\n",
       "      <th>BASEL_precipitation</th>\n",
       "      <th>BASEL_snow_depth</th>\n",
       "      <th>BASEL_sunshine</th>\n",
       "      <th>...</th>\n",
       "      <th>VALENTIA_cloud_cover</th>\n",
       "      <th>VALENTIA_humidity</th>\n",
       "      <th>VALENTIA_pressure</th>\n",
       "      <th>VALENTIA_global_radiation</th>\n",
       "      <th>VALENTIA_precipitation</th>\n",
       "      <th>VALENTIA_snow_depth</th>\n",
       "      <th>VALENTIA_sunshine</th>\n",
       "      <th>VALENTIA_temp_mean</th>\n",
       "      <th>VALENTIA_temp_min</th>\n",
       "      <th>VALENTIA_temp_max</th>\n",
       "    </tr>\n",
       "  </thead>\n",
       "  <tbody>\n",
       "    <tr>\n",
       "      <th>0</th>\n",
       "      <td>19600101</td>\n",
       "      <td>1</td>\n",
       "      <td>7</td>\n",
       "      <td>2.1</td>\n",
       "      <td>0.85</td>\n",
       "      <td>1.0180</td>\n",
       "      <td>0.32</td>\n",
       "      <td>0.09</td>\n",
       "      <td>0</td>\n",
       "      <td>0.7</td>\n",
       "      <td>...</td>\n",
       "      <td>5</td>\n",
       "      <td>0.88</td>\n",
       "      <td>1.0003</td>\n",
       "      <td>0.45</td>\n",
       "      <td>0.34</td>\n",
       "      <td>0</td>\n",
       "      <td>4.7</td>\n",
       "      <td>8.5</td>\n",
       "      <td>6.0</td>\n",
       "      <td>10.9</td>\n",
       "    </tr>\n",
       "    <tr>\n",
       "      <th>1</th>\n",
       "      <td>19600102</td>\n",
       "      <td>1</td>\n",
       "      <td>6</td>\n",
       "      <td>2.1</td>\n",
       "      <td>0.84</td>\n",
       "      <td>1.0180</td>\n",
       "      <td>0.36</td>\n",
       "      <td>1.05</td>\n",
       "      <td>0</td>\n",
       "      <td>1.1</td>\n",
       "      <td>...</td>\n",
       "      <td>7</td>\n",
       "      <td>0.91</td>\n",
       "      <td>1.0007</td>\n",
       "      <td>0.25</td>\n",
       "      <td>0.84</td>\n",
       "      <td>0</td>\n",
       "      <td>0.7</td>\n",
       "      <td>8.9</td>\n",
       "      <td>5.6</td>\n",
       "      <td>12.1</td>\n",
       "    </tr>\n",
       "    <tr>\n",
       "      <th>2</th>\n",
       "      <td>19600103</td>\n",
       "      <td>1</td>\n",
       "      <td>8</td>\n",
       "      <td>2.1</td>\n",
       "      <td>0.90</td>\n",
       "      <td>1.0180</td>\n",
       "      <td>0.18</td>\n",
       "      <td>0.30</td>\n",
       "      <td>0</td>\n",
       "      <td>0.0</td>\n",
       "      <td>...</td>\n",
       "      <td>7</td>\n",
       "      <td>0.91</td>\n",
       "      <td>1.0096</td>\n",
       "      <td>0.17</td>\n",
       "      <td>0.08</td>\n",
       "      <td>0</td>\n",
       "      <td>0.1</td>\n",
       "      <td>10.5</td>\n",
       "      <td>8.1</td>\n",
       "      <td>12.9</td>\n",
       "    </tr>\n",
       "    <tr>\n",
       "      <th>3</th>\n",
       "      <td>19600104</td>\n",
       "      <td>1</td>\n",
       "      <td>3</td>\n",
       "      <td>2.1</td>\n",
       "      <td>0.92</td>\n",
       "      <td>1.0180</td>\n",
       "      <td>0.58</td>\n",
       "      <td>0.00</td>\n",
       "      <td>0</td>\n",
       "      <td>4.1</td>\n",
       "      <td>...</td>\n",
       "      <td>7</td>\n",
       "      <td>0.86</td>\n",
       "      <td>1.0184</td>\n",
       "      <td>0.13</td>\n",
       "      <td>0.98</td>\n",
       "      <td>0</td>\n",
       "      <td>0.0</td>\n",
       "      <td>7.4</td>\n",
       "      <td>7.3</td>\n",
       "      <td>10.6</td>\n",
       "    </tr>\n",
       "    <tr>\n",
       "      <th>4</th>\n",
       "      <td>19600105</td>\n",
       "      <td>1</td>\n",
       "      <td>6</td>\n",
       "      <td>2.1</td>\n",
       "      <td>0.95</td>\n",
       "      <td>1.0180</td>\n",
       "      <td>0.65</td>\n",
       "      <td>0.14</td>\n",
       "      <td>0</td>\n",
       "      <td>5.4</td>\n",
       "      <td>...</td>\n",
       "      <td>3</td>\n",
       "      <td>0.80</td>\n",
       "      <td>1.0328</td>\n",
       "      <td>0.46</td>\n",
       "      <td>0.00</td>\n",
       "      <td>0</td>\n",
       "      <td>5.7</td>\n",
       "      <td>5.7</td>\n",
       "      <td>3.0</td>\n",
       "      <td>8.4</td>\n",
       "    </tr>\n",
       "    <tr>\n",
       "      <th>...</th>\n",
       "      <td>...</td>\n",
       "      <td>...</td>\n",
       "      <td>...</td>\n",
       "      <td>...</td>\n",
       "      <td>...</td>\n",
       "      <td>...</td>\n",
       "      <td>...</td>\n",
       "      <td>...</td>\n",
       "      <td>...</td>\n",
       "      <td>...</td>\n",
       "      <td>...</td>\n",
       "      <td>...</td>\n",
       "      <td>...</td>\n",
       "      <td>...</td>\n",
       "      <td>...</td>\n",
       "      <td>...</td>\n",
       "      <td>...</td>\n",
       "      <td>...</td>\n",
       "      <td>...</td>\n",
       "      <td>...</td>\n",
       "      <td>...</td>\n",
       "    </tr>\n",
       "    <tr>\n",
       "      <th>22945</th>\n",
       "      <td>20221027</td>\n",
       "      <td>10</td>\n",
       "      <td>1</td>\n",
       "      <td>2.1</td>\n",
       "      <td>0.79</td>\n",
       "      <td>1.0248</td>\n",
       "      <td>1.34</td>\n",
       "      <td>0.22</td>\n",
       "      <td>0</td>\n",
       "      <td>7.7</td>\n",
       "      <td>...</td>\n",
       "      <td>5</td>\n",
       "      <td>0.82</td>\n",
       "      <td>1.0142</td>\n",
       "      <td>1.13</td>\n",
       "      <td>0.41</td>\n",
       "      <td>0</td>\n",
       "      <td>3.4</td>\n",
       "      <td>10.7</td>\n",
       "      <td>7.9</td>\n",
       "      <td>13.5</td>\n",
       "    </tr>\n",
       "    <tr>\n",
       "      <th>22946</th>\n",
       "      <td>20221028</td>\n",
       "      <td>10</td>\n",
       "      <td>6</td>\n",
       "      <td>2.1</td>\n",
       "      <td>0.77</td>\n",
       "      <td>1.0244</td>\n",
       "      <td>1.34</td>\n",
       "      <td>0.22</td>\n",
       "      <td>0</td>\n",
       "      <td>5.4</td>\n",
       "      <td>...</td>\n",
       "      <td>5</td>\n",
       "      <td>0.82</td>\n",
       "      <td>1.0142</td>\n",
       "      <td>1.13</td>\n",
       "      <td>0.41</td>\n",
       "      <td>0</td>\n",
       "      <td>3.4</td>\n",
       "      <td>10.7</td>\n",
       "      <td>7.9</td>\n",
       "      <td>13.5</td>\n",
       "    </tr>\n",
       "    <tr>\n",
       "      <th>22947</th>\n",
       "      <td>20221029</td>\n",
       "      <td>10</td>\n",
       "      <td>4</td>\n",
       "      <td>2.1</td>\n",
       "      <td>0.76</td>\n",
       "      <td>1.0227</td>\n",
       "      <td>1.34</td>\n",
       "      <td>0.22</td>\n",
       "      <td>0</td>\n",
       "      <td>6.1</td>\n",
       "      <td>...</td>\n",
       "      <td>5</td>\n",
       "      <td>0.82</td>\n",
       "      <td>1.0142</td>\n",
       "      <td>1.13</td>\n",
       "      <td>0.41</td>\n",
       "      <td>0</td>\n",
       "      <td>3.4</td>\n",
       "      <td>10.7</td>\n",
       "      <td>7.9</td>\n",
       "      <td>13.5</td>\n",
       "    </tr>\n",
       "    <tr>\n",
       "      <th>22948</th>\n",
       "      <td>20221030</td>\n",
       "      <td>10</td>\n",
       "      <td>5</td>\n",
       "      <td>2.1</td>\n",
       "      <td>0.80</td>\n",
       "      <td>1.0212</td>\n",
       "      <td>1.34</td>\n",
       "      <td>0.22</td>\n",
       "      <td>0</td>\n",
       "      <td>5.8</td>\n",
       "      <td>...</td>\n",
       "      <td>5</td>\n",
       "      <td>0.82</td>\n",
       "      <td>1.0142</td>\n",
       "      <td>1.13</td>\n",
       "      <td>0.41</td>\n",
       "      <td>0</td>\n",
       "      <td>3.4</td>\n",
       "      <td>10.7</td>\n",
       "      <td>7.9</td>\n",
       "      <td>13.5</td>\n",
       "    </tr>\n",
       "    <tr>\n",
       "      <th>22949</th>\n",
       "      <td>20221031</td>\n",
       "      <td>10</td>\n",
       "      <td>5</td>\n",
       "      <td>2.1</td>\n",
       "      <td>0.84</td>\n",
       "      <td>1.0193</td>\n",
       "      <td>1.34</td>\n",
       "      <td>0.22</td>\n",
       "      <td>0</td>\n",
       "      <td>3.2</td>\n",
       "      <td>...</td>\n",
       "      <td>5</td>\n",
       "      <td>0.82</td>\n",
       "      <td>1.0142</td>\n",
       "      <td>1.13</td>\n",
       "      <td>0.41</td>\n",
       "      <td>0</td>\n",
       "      <td>3.4</td>\n",
       "      <td>10.7</td>\n",
       "      <td>7.9</td>\n",
       "      <td>13.5</td>\n",
       "    </tr>\n",
       "  </tbody>\n",
       "</table>\n",
       "<p>22950 rows × 170 columns</p>\n",
       "</div>"
      ],
      "text/plain": [
       "           DATE  MONTH  BASEL_cloud_cover  BASEL_wind_speed  BASEL_humidity  \\\n",
       "0      19600101      1                  7               2.1            0.85   \n",
       "1      19600102      1                  6               2.1            0.84   \n",
       "2      19600103      1                  8               2.1            0.90   \n",
       "3      19600104      1                  3               2.1            0.92   \n",
       "4      19600105      1                  6               2.1            0.95   \n",
       "...         ...    ...                ...               ...             ...   \n",
       "22945  20221027     10                  1               2.1            0.79   \n",
       "22946  20221028     10                  6               2.1            0.77   \n",
       "22947  20221029     10                  4               2.1            0.76   \n",
       "22948  20221030     10                  5               2.1            0.80   \n",
       "22949  20221031     10                  5               2.1            0.84   \n",
       "\n",
       "       BASEL_pressure  BASEL_global_radiation  BASEL_precipitation  \\\n",
       "0              1.0180                    0.32                 0.09   \n",
       "1              1.0180                    0.36                 1.05   \n",
       "2              1.0180                    0.18                 0.30   \n",
       "3              1.0180                    0.58                 0.00   \n",
       "4              1.0180                    0.65                 0.14   \n",
       "...               ...                     ...                  ...   \n",
       "22945          1.0248                    1.34                 0.22   \n",
       "22946          1.0244                    1.34                 0.22   \n",
       "22947          1.0227                    1.34                 0.22   \n",
       "22948          1.0212                    1.34                 0.22   \n",
       "22949          1.0193                    1.34                 0.22   \n",
       "\n",
       "       BASEL_snow_depth  BASEL_sunshine  ...  VALENTIA_cloud_cover  \\\n",
       "0                     0             0.7  ...                     5   \n",
       "1                     0             1.1  ...                     7   \n",
       "2                     0             0.0  ...                     7   \n",
       "3                     0             4.1  ...                     7   \n",
       "4                     0             5.4  ...                     3   \n",
       "...                 ...             ...  ...                   ...   \n",
       "22945                 0             7.7  ...                     5   \n",
       "22946                 0             5.4  ...                     5   \n",
       "22947                 0             6.1  ...                     5   \n",
       "22948                 0             5.8  ...                     5   \n",
       "22949                 0             3.2  ...                     5   \n",
       "\n",
       "       VALENTIA_humidity  VALENTIA_pressure  VALENTIA_global_radiation  \\\n",
       "0                   0.88             1.0003                       0.45   \n",
       "1                   0.91             1.0007                       0.25   \n",
       "2                   0.91             1.0096                       0.17   \n",
       "3                   0.86             1.0184                       0.13   \n",
       "4                   0.80             1.0328                       0.46   \n",
       "...                  ...                ...                        ...   \n",
       "22945               0.82             1.0142                       1.13   \n",
       "22946               0.82             1.0142                       1.13   \n",
       "22947               0.82             1.0142                       1.13   \n",
       "22948               0.82             1.0142                       1.13   \n",
       "22949               0.82             1.0142                       1.13   \n",
       "\n",
       "       VALENTIA_precipitation  VALENTIA_snow_depth  VALENTIA_sunshine  \\\n",
       "0                        0.34                    0                4.7   \n",
       "1                        0.84                    0                0.7   \n",
       "2                        0.08                    0                0.1   \n",
       "3                        0.98                    0                0.0   \n",
       "4                        0.00                    0                5.7   \n",
       "...                       ...                  ...                ...   \n",
       "22945                    0.41                    0                3.4   \n",
       "22946                    0.41                    0                3.4   \n",
       "22947                    0.41                    0                3.4   \n",
       "22948                    0.41                    0                3.4   \n",
       "22949                    0.41                    0                3.4   \n",
       "\n",
       "       VALENTIA_temp_mean  VALENTIA_temp_min  VALENTIA_temp_max  \n",
       "0                     8.5                6.0               10.9  \n",
       "1                     8.9                5.6               12.1  \n",
       "2                    10.5                8.1               12.9  \n",
       "3                     7.4                7.3               10.6  \n",
       "4                     5.7                3.0                8.4  \n",
       "...                   ...                ...                ...  \n",
       "22945                10.7                7.9               13.5  \n",
       "22946                10.7                7.9               13.5  \n",
       "22947                10.7                7.9               13.5  \n",
       "22948                10.7                7.9               13.5  \n",
       "22949                10.7                7.9               13.5  \n",
       "\n",
       "[22950 rows x 170 columns]"
      ]
     },
     "execution_count": 4,
     "metadata": {},
     "output_type": "execute_result"
    }
   ],
   "source": [
    "df = pd.read_csv(os.path.join(path, 'Original Dataset.csv'))\n",
    "df"
   ]
  },
  {
   "cell_type": "code",
   "execution_count": 5,
   "id": "5d072317-dd98-4018-9c20-1463107cf3d7",
   "metadata": {},
   "outputs": [
    {
     "data": {
      "text/html": [
       "<div>\n",
       "<style scoped>\n",
       "    .dataframe tbody tr th:only-of-type {\n",
       "        vertical-align: middle;\n",
       "    }\n",
       "\n",
       "    .dataframe tbody tr th {\n",
       "        vertical-align: top;\n",
       "    }\n",
       "\n",
       "    .dataframe thead th {\n",
       "        text-align: right;\n",
       "    }\n",
       "</style>\n",
       "<table border=\"1\" class=\"dataframe\">\n",
       "  <thead>\n",
       "    <tr style=\"text-align: right;\">\n",
       "      <th></th>\n",
       "      <th>DATE</th>\n",
       "      <th>BASEL_pleasant_weather</th>\n",
       "      <th>BELGRADE_pleasant_weather</th>\n",
       "      <th>BUDAPEST_pleasant_weather</th>\n",
       "      <th>DEBILT_pleasant_weather</th>\n",
       "      <th>DUSSELDORF_pleasant_weather</th>\n",
       "      <th>HEATHROW_pleasant_weather</th>\n",
       "      <th>KASSEL_pleasant_weather</th>\n",
       "      <th>LJUBLJANA_pleasant_weather</th>\n",
       "      <th>MAASTRICHT_pleasant_weather</th>\n",
       "      <th>MADRID_pleasant_weather</th>\n",
       "      <th>MUNCHENB_pleasant_weather</th>\n",
       "      <th>OSLO_pleasant_weather</th>\n",
       "      <th>SONNBLICK_pleasant_weather</th>\n",
       "      <th>STOCKHOLM_pleasant_weather</th>\n",
       "      <th>VALENTIA_pleasant_weather</th>\n",
       "    </tr>\n",
       "  </thead>\n",
       "  <tbody>\n",
       "    <tr>\n",
       "      <th>0</th>\n",
       "      <td>19600101</td>\n",
       "      <td>0</td>\n",
       "      <td>0</td>\n",
       "      <td>0</td>\n",
       "      <td>0</td>\n",
       "      <td>0</td>\n",
       "      <td>0</td>\n",
       "      <td>0</td>\n",
       "      <td>0</td>\n",
       "      <td>0</td>\n",
       "      <td>0</td>\n",
       "      <td>0</td>\n",
       "      <td>0</td>\n",
       "      <td>0</td>\n",
       "      <td>0</td>\n",
       "      <td>0</td>\n",
       "    </tr>\n",
       "    <tr>\n",
       "      <th>1</th>\n",
       "      <td>19600102</td>\n",
       "      <td>0</td>\n",
       "      <td>0</td>\n",
       "      <td>0</td>\n",
       "      <td>0</td>\n",
       "      <td>0</td>\n",
       "      <td>0</td>\n",
       "      <td>0</td>\n",
       "      <td>0</td>\n",
       "      <td>0</td>\n",
       "      <td>0</td>\n",
       "      <td>0</td>\n",
       "      <td>0</td>\n",
       "      <td>0</td>\n",
       "      <td>0</td>\n",
       "      <td>0</td>\n",
       "    </tr>\n",
       "    <tr>\n",
       "      <th>2</th>\n",
       "      <td>19600103</td>\n",
       "      <td>0</td>\n",
       "      <td>0</td>\n",
       "      <td>0</td>\n",
       "      <td>0</td>\n",
       "      <td>0</td>\n",
       "      <td>0</td>\n",
       "      <td>0</td>\n",
       "      <td>0</td>\n",
       "      <td>0</td>\n",
       "      <td>0</td>\n",
       "      <td>0</td>\n",
       "      <td>0</td>\n",
       "      <td>0</td>\n",
       "      <td>0</td>\n",
       "      <td>0</td>\n",
       "    </tr>\n",
       "    <tr>\n",
       "      <th>3</th>\n",
       "      <td>19600104</td>\n",
       "      <td>0</td>\n",
       "      <td>0</td>\n",
       "      <td>0</td>\n",
       "      <td>0</td>\n",
       "      <td>0</td>\n",
       "      <td>0</td>\n",
       "      <td>0</td>\n",
       "      <td>0</td>\n",
       "      <td>0</td>\n",
       "      <td>0</td>\n",
       "      <td>0</td>\n",
       "      <td>0</td>\n",
       "      <td>0</td>\n",
       "      <td>0</td>\n",
       "      <td>0</td>\n",
       "    </tr>\n",
       "    <tr>\n",
       "      <th>4</th>\n",
       "      <td>19600105</td>\n",
       "      <td>0</td>\n",
       "      <td>0</td>\n",
       "      <td>0</td>\n",
       "      <td>0</td>\n",
       "      <td>0</td>\n",
       "      <td>0</td>\n",
       "      <td>0</td>\n",
       "      <td>0</td>\n",
       "      <td>0</td>\n",
       "      <td>0</td>\n",
       "      <td>0</td>\n",
       "      <td>0</td>\n",
       "      <td>0</td>\n",
       "      <td>0</td>\n",
       "      <td>0</td>\n",
       "    </tr>\n",
       "    <tr>\n",
       "      <th>...</th>\n",
       "      <td>...</td>\n",
       "      <td>...</td>\n",
       "      <td>...</td>\n",
       "      <td>...</td>\n",
       "      <td>...</td>\n",
       "      <td>...</td>\n",
       "      <td>...</td>\n",
       "      <td>...</td>\n",
       "      <td>...</td>\n",
       "      <td>...</td>\n",
       "      <td>...</td>\n",
       "      <td>...</td>\n",
       "      <td>...</td>\n",
       "      <td>...</td>\n",
       "      <td>...</td>\n",
       "      <td>...</td>\n",
       "    </tr>\n",
       "    <tr>\n",
       "      <th>22945</th>\n",
       "      <td>20221027</td>\n",
       "      <td>0</td>\n",
       "      <td>0</td>\n",
       "      <td>0</td>\n",
       "      <td>0</td>\n",
       "      <td>0</td>\n",
       "      <td>0</td>\n",
       "      <td>0</td>\n",
       "      <td>0</td>\n",
       "      <td>0</td>\n",
       "      <td>0</td>\n",
       "      <td>0</td>\n",
       "      <td>0</td>\n",
       "      <td>0</td>\n",
       "      <td>0</td>\n",
       "      <td>0</td>\n",
       "    </tr>\n",
       "    <tr>\n",
       "      <th>22946</th>\n",
       "      <td>20221028</td>\n",
       "      <td>0</td>\n",
       "      <td>0</td>\n",
       "      <td>0</td>\n",
       "      <td>0</td>\n",
       "      <td>0</td>\n",
       "      <td>0</td>\n",
       "      <td>0</td>\n",
       "      <td>0</td>\n",
       "      <td>0</td>\n",
       "      <td>0</td>\n",
       "      <td>0</td>\n",
       "      <td>0</td>\n",
       "      <td>0</td>\n",
       "      <td>0</td>\n",
       "      <td>0</td>\n",
       "    </tr>\n",
       "    <tr>\n",
       "      <th>22947</th>\n",
       "      <td>20221029</td>\n",
       "      <td>0</td>\n",
       "      <td>0</td>\n",
       "      <td>0</td>\n",
       "      <td>0</td>\n",
       "      <td>0</td>\n",
       "      <td>0</td>\n",
       "      <td>0</td>\n",
       "      <td>0</td>\n",
       "      <td>0</td>\n",
       "      <td>0</td>\n",
       "      <td>0</td>\n",
       "      <td>0</td>\n",
       "      <td>0</td>\n",
       "      <td>0</td>\n",
       "      <td>0</td>\n",
       "    </tr>\n",
       "    <tr>\n",
       "      <th>22948</th>\n",
       "      <td>20221030</td>\n",
       "      <td>0</td>\n",
       "      <td>0</td>\n",
       "      <td>0</td>\n",
       "      <td>0</td>\n",
       "      <td>0</td>\n",
       "      <td>0</td>\n",
       "      <td>0</td>\n",
       "      <td>0</td>\n",
       "      <td>0</td>\n",
       "      <td>0</td>\n",
       "      <td>0</td>\n",
       "      <td>0</td>\n",
       "      <td>0</td>\n",
       "      <td>0</td>\n",
       "      <td>0</td>\n",
       "    </tr>\n",
       "    <tr>\n",
       "      <th>22949</th>\n",
       "      <td>20221031</td>\n",
       "      <td>0</td>\n",
       "      <td>0</td>\n",
       "      <td>0</td>\n",
       "      <td>0</td>\n",
       "      <td>0</td>\n",
       "      <td>0</td>\n",
       "      <td>0</td>\n",
       "      <td>0</td>\n",
       "      <td>0</td>\n",
       "      <td>0</td>\n",
       "      <td>0</td>\n",
       "      <td>0</td>\n",
       "      <td>0</td>\n",
       "      <td>0</td>\n",
       "      <td>0</td>\n",
       "    </tr>\n",
       "  </tbody>\n",
       "</table>\n",
       "<p>22950 rows × 16 columns</p>\n",
       "</div>"
      ],
      "text/plain": [
       "           DATE  BASEL_pleasant_weather  BELGRADE_pleasant_weather  \\\n",
       "0      19600101                       0                          0   \n",
       "1      19600102                       0                          0   \n",
       "2      19600103                       0                          0   \n",
       "3      19600104                       0                          0   \n",
       "4      19600105                       0                          0   \n",
       "...         ...                     ...                        ...   \n",
       "22945  20221027                       0                          0   \n",
       "22946  20221028                       0                          0   \n",
       "22947  20221029                       0                          0   \n",
       "22948  20221030                       0                          0   \n",
       "22949  20221031                       0                          0   \n",
       "\n",
       "       BUDAPEST_pleasant_weather  DEBILT_pleasant_weather  \\\n",
       "0                              0                        0   \n",
       "1                              0                        0   \n",
       "2                              0                        0   \n",
       "3                              0                        0   \n",
       "4                              0                        0   \n",
       "...                          ...                      ...   \n",
       "22945                          0                        0   \n",
       "22946                          0                        0   \n",
       "22947                          0                        0   \n",
       "22948                          0                        0   \n",
       "22949                          0                        0   \n",
       "\n",
       "       DUSSELDORF_pleasant_weather  HEATHROW_pleasant_weather  \\\n",
       "0                                0                          0   \n",
       "1                                0                          0   \n",
       "2                                0                          0   \n",
       "3                                0                          0   \n",
       "4                                0                          0   \n",
       "...                            ...                        ...   \n",
       "22945                            0                          0   \n",
       "22946                            0                          0   \n",
       "22947                            0                          0   \n",
       "22948                            0                          0   \n",
       "22949                            0                          0   \n",
       "\n",
       "       KASSEL_pleasant_weather  LJUBLJANA_pleasant_weather  \\\n",
       "0                            0                           0   \n",
       "1                            0                           0   \n",
       "2                            0                           0   \n",
       "3                            0                           0   \n",
       "4                            0                           0   \n",
       "...                        ...                         ...   \n",
       "22945                        0                           0   \n",
       "22946                        0                           0   \n",
       "22947                        0                           0   \n",
       "22948                        0                           0   \n",
       "22949                        0                           0   \n",
       "\n",
       "       MAASTRICHT_pleasant_weather  MADRID_pleasant_weather  \\\n",
       "0                                0                        0   \n",
       "1                                0                        0   \n",
       "2                                0                        0   \n",
       "3                                0                        0   \n",
       "4                                0                        0   \n",
       "...                            ...                      ...   \n",
       "22945                            0                        0   \n",
       "22946                            0                        0   \n",
       "22947                            0                        0   \n",
       "22948                            0                        0   \n",
       "22949                            0                        0   \n",
       "\n",
       "       MUNCHENB_pleasant_weather  OSLO_pleasant_weather  \\\n",
       "0                              0                      0   \n",
       "1                              0                      0   \n",
       "2                              0                      0   \n",
       "3                              0                      0   \n",
       "4                              0                      0   \n",
       "...                          ...                    ...   \n",
       "22945                          0                      0   \n",
       "22946                          0                      0   \n",
       "22947                          0                      0   \n",
       "22948                          0                      0   \n",
       "22949                          0                      0   \n",
       "\n",
       "       SONNBLICK_pleasant_weather  STOCKHOLM_pleasant_weather  \\\n",
       "0                               0                           0   \n",
       "1                               0                           0   \n",
       "2                               0                           0   \n",
       "3                               0                           0   \n",
       "4                               0                           0   \n",
       "...                           ...                         ...   \n",
       "22945                           0                           0   \n",
       "22946                           0                           0   \n",
       "22947                           0                           0   \n",
       "22948                           0                           0   \n",
       "22949                           0                           0   \n",
       "\n",
       "       VALENTIA_pleasant_weather  \n",
       "0                              0  \n",
       "1                              0  \n",
       "2                              0  \n",
       "3                              0  \n",
       "4                              0  \n",
       "...                          ...  \n",
       "22945                          0  \n",
       "22946                          0  \n",
       "22947                          0  \n",
       "22948                          0  \n",
       "22949                          0  \n",
       "\n",
       "[22950 rows x 16 columns]"
      ]
     },
     "execution_count": 5,
     "metadata": {},
     "output_type": "execute_result"
    }
   ],
   "source": [
    "pleasant = pd.read_csv(os.path.join(path, 'Dataset-Answers-Weather_Prediction_Pleasant_Weather.csv'))\n",
    "pleasant"
   ]
  },
  {
   "cell_type": "markdown",
   "id": "fa18b125-0da1-4e88-a6fd-52b74248c153",
   "metadata": {},
   "source": [
    "### 2. Data wrangling"
   ]
  },
  {
   "cell_type": "code",
   "execution_count": 7,
   "id": "bf021995-f0ad-4f97-8353-de1ff5a7ca8e",
   "metadata": {},
   "outputs": [],
   "source": [
    "# removing data from Gdansk, Rome and Tours\n",
    "\n",
    "cols_to_drop = [col for col in df.columns if col.startswith(('GDANSK', 'ROMA', 'TOURS'))]\n",
    "df2 = df.drop(columns=cols_to_drop)"
   ]
  },
  {
   "cell_type": "code",
   "execution_count": 16,
   "id": "cddb4394-0984-4fa5-9b05-e1fe0321cb70",
   "metadata": {},
   "outputs": [],
   "source": [
    "# dropping date and month column\n",
    "\n",
    "df2.drop(columns=['DATE','MONTH'], inplace=True)"
   ]
  },
  {
   "cell_type": "code",
   "execution_count": 18,
   "id": "22d38923-c639-4442-b197-987bc16bc0d1",
   "metadata": {},
   "outputs": [
    {
     "data": {
      "text/plain": [
       "(22950, 148)"
      ]
     },
     "execution_count": 18,
     "metadata": {},
     "output_type": "execute_result"
    }
   ],
   "source": [
    "df2.shape"
   ]
  },
  {
   "cell_type": "code",
   "execution_count": 20,
   "id": "96cc693d-dfa2-48b1-9fab-d5e3f63c27bc",
   "metadata": {},
   "outputs": [],
   "source": [
    "# Extract the different observation types\n",
    "\n",
    "observation_types = ['cloud_cover', 'wind_speed', 'humidity', 'pressure',\n",
    "                     'global_radiation', 'precipitation', 'snow_depth', \n",
    "                     'sunshine', 'temp_mean', 'temp_min', 'temp_max']"
   ]
  },
  {
   "cell_type": "code",
   "execution_count": 22,
   "id": "55a8616f-ecd4-4176-8e46-2644c53d1540",
   "metadata": {},
   "outputs": [
    {
     "name": "stdout",
     "output_type": "stream",
     "text": [
      "Number of stations covered by each observation type:\n",
      "cloud_cover: 14 stations\n",
      "wind_speed: 9 stations\n",
      "humidity: 14 stations\n",
      "pressure: 14 stations\n",
      "global_radiation: 15 stations\n",
      "precipitation: 15 stations\n",
      "snow_depth: 6 stations\n",
      "sunshine: 15 stations\n",
      "temp_mean: 15 stations\n",
      "temp_min: 15 stations\n",
      "temp_max: 15 stations\n"
     ]
    }
   ],
   "source": [
    "# Create a dictionary to store the count of stations for each observation type\n",
    "station_counts = {}\n",
    "\n",
    "for obs in observation_types:\n",
    "    # Select columns related to the current observation type\n",
    "    columns = [col for col in df2.columns if col.endswith(obs)]\n",
    "    \n",
    "    # Count the number of stations (i.e., the number of columns) for the current observation type\n",
    "    station_counts[obs] = len(columns)\n",
    "\n",
    "# Print the count of stations for each observation type\n",
    "print(\"Number of stations covered by each observation type:\")\n",
    "for obs, count in station_counts.items():\n",
    "    print(f\"{obs}: {count} stations\")\n"
   ]
  },
  {
   "cell_type": "markdown",
   "id": "c0fb95e4-235c-419b-9b82-c0ded565735f",
   "metadata": {},
   "source": [
    "There are a few observations which are missing values, namely wind speed and snow depth. I will be removing all columns with these values "
   ]
  },
  {
   "cell_type": "code",
   "execution_count": 25,
   "id": "6b0df8c7-8a7d-47d2-a89a-4af6dfa40c6e",
   "metadata": {},
   "outputs": [],
   "source": [
    "cols_to_drop2 = [col for col in df2.columns if '_wind_speed' in col or '_snow_depth' in col]\n",
    "\n",
    "# Drop the columns\n",
    "df3 = df2.drop(cols_to_drop2, axis=1)"
   ]
  },
  {
   "cell_type": "code",
   "execution_count": 27,
   "id": "a6086f0b-c739-4c13-b48c-649a281d46d6",
   "metadata": {},
   "outputs": [
    {
     "data": {
      "text/plain": [
       "(22950, 133)"
      ]
     },
     "execution_count": 27,
     "metadata": {},
     "output_type": "execute_result"
    }
   ],
   "source": [
    "df3.shape"
   ]
  },
  {
   "cell_type": "markdown",
   "id": "acb8230a-3a4d-4b33-97f1-06486c151ac0",
   "metadata": {},
   "source": [
    "A few stations have values missing"
   ]
  },
  {
   "cell_type": "code",
   "execution_count": 30,
   "id": "b02e07f7-647f-44d4-aa20-74dc70e39f67",
   "metadata": {},
   "outputs": [
    {
     "name": "stdout",
     "output_type": "stream",
     "text": [
      "{'BASEL', 'BUDAPEST', 'OSLO', 'SONNBLICK', 'DEBILT', 'LJUBLJANA', 'MADRID', 'HEATHROW', 'VALENTIA', 'BELGRADE', 'MUNCHENB', 'DUSSELDORF', 'KASSEL', 'MAASTRICHT', 'STOCKHOLM'}\n"
     ]
    }
   ],
   "source": [
    "# Find the stations with the above entries missing\n",
    "# Get all column names\n",
    "all_columns = df3.columns.tolist()\n",
    "# Exclude 'DATE' and 'MONTH' columns\n",
    "all_columns = [col for col in all_columns if col not in ['DATE', 'MONTH']]  \n",
    "# Extract unique weather station names\n",
    "weather_stations = set()  # Use a set to automatically store only unique values\n",
    "for col in all_columns:\n",
    "    station_name = col.split('_')[0]  # Split the column name at the underscore and take the first part\n",
    "    weather_stations.add(station_name)\n",
    "\n",
    "# Print the list of weather stations\n",
    "print(weather_stations)"
   ]
  },
  {
   "cell_type": "code",
   "execution_count": 32,
   "id": "1779ba9a-e111-466b-b6c4-d5926f0b1fe0",
   "metadata": {},
   "outputs": [
    {
     "name": "stdout",
     "output_type": "stream",
     "text": [
      "\n",
      "Stations missing from cloud_cover:\n",
      "KASSEL\n",
      "\n",
      "Stations missing from humidity:\n",
      "STOCKHOLM\n",
      "\n",
      "Stations missing from pressure:\n",
      "MUNCHENB\n"
     ]
    }
   ],
   "source": [
    "# Find stations missing observation types\n",
    "observation_types = ['cloud_cover', 'humidity', 'pressure']\n",
    "\n",
    "missing_stations_by_observation = {}\n",
    "\n",
    "for obs in observation_types:\n",
    "    # Select columns related to the current observation type\n",
    "    columns = [col for col in df3.columns if col.endswith(obs)]\n",
    "    \n",
    "    # Extract station names by removing the observation type from the column names\n",
    "    station_names = set([col.replace(f'_{obs}', '') for col in columns])\n",
    "    \n",
    "    # Identify stations that are in all_stations but missing from the current observation type\n",
    "    missing_stations = weather_stations - station_names\n",
    "    \n",
    "    # Store the missing station names in the dictionary\n",
    "    missing_stations_by_observation[obs] = missing_stations\n",
    "\n",
    "# Print the missing station names for each observation type\n",
    "for obs, missing_stations in missing_stations_by_observation.items():\n",
    "    print(f\"\\nStations missing from {obs}:\")\n",
    "    if missing_stations:\n",
    "        for station in missing_stations:\n",
    "            print(station)\n",
    "    else:\n",
    "        print(\"None\")"
   ]
  },
  {
   "cell_type": "markdown",
   "id": "409d5169-452d-488a-9e6f-8b7d2c9dc64f",
   "metadata": {},
   "source": [
    " Find values which are close to these locations and I will input them in"
   ]
  },
  {
   "cell_type": "code",
   "execution_count": 35,
   "id": "f0f51d0c-8ef8-4d58-9122-9f30d0c30035",
   "metadata": {},
   "outputs": [
    {
     "data": {
      "text/plain": [
       "54"
      ]
     },
     "execution_count": 35,
     "metadata": {},
     "output_type": "execute_result"
    }
   ],
   "source": [
    "# Cloud cover is the start of a stations data, Kassel is next to Heathrow, find the position of Heathrow_temp_max for the insertion of Kassel_cloud_cover\n",
    "df3.columns.get_loc('HEATHROW_temp_max')"
   ]
  },
  {
   "cell_type": "code",
   "execution_count": 37,
   "id": "c4dc13b9-fd38-4e47-aca1-446fded1f0d1",
   "metadata": {},
   "outputs": [
    {
     "data": {
      "text/plain": [
       "116"
      ]
     },
     "execution_count": 37,
     "metadata": {},
     "output_type": "execute_result"
    }
   ],
   "source": [
    "# Find the position for insertion of Stockholm humidity\n",
    "df3.columns.get_loc('STOCKHOLM_cloud_cover') #humidity is 1 after cloud cover so (result +1)"
   ]
  },
  {
   "cell_type": "code",
   "execution_count": 39,
   "id": "e92cf9e1-aa5a-4433-942d-2905148bc893",
   "metadata": {},
   "outputs": [
    {
     "data": {
      "text/plain": [
       "90"
      ]
     },
     "execution_count": 39,
     "metadata": {},
     "output_type": "execute_result"
    }
   ],
   "source": [
    "# Find position for Munchenb pressure\n",
    "df3.columns.get_loc('MUNCHENB_cloud_cover') # pressure is 2 after cloud cover so (result +2)"
   ]
  },
  {
   "cell_type": "code",
   "execution_count": 41,
   "id": "aaa430b0-580e-454c-829d-e16b47a67d78",
   "metadata": {},
   "outputs": [],
   "source": [
    "# Insert new columns into \"unscaled\" at specific positions.\n",
    "# The data for these new columns is taken from weather stations they are close to\n",
    "\n",
    "df3.insert(54,'KASSEL_cloud_cover', df3['DUSSELDORF_cloud_cover'])\n",
    "df3.insert(117, 'STOCKHOLM_humidity', df3['OSLO_humidity'])\n",
    "df3.insert(92,'MUNCHENB_pressure',df3['BASEL_pressure'])"
   ]
  },
  {
   "cell_type": "code",
   "execution_count": 43,
   "id": "b7794619-affe-47c7-a545-0825304d2cf3",
   "metadata": {},
   "outputs": [],
   "source": [
    "pleasant.drop(columns = 'DATE', inplace = True)"
   ]
  },
  {
   "cell_type": "code",
   "execution_count": 45,
   "id": "f984e7cf-4051-49da-b852-b099aa68fe4b",
   "metadata": {},
   "outputs": [
    {
     "data": {
      "text/html": [
       "<div>\n",
       "<style scoped>\n",
       "    .dataframe tbody tr th:only-of-type {\n",
       "        vertical-align: middle;\n",
       "    }\n",
       "\n",
       "    .dataframe tbody tr th {\n",
       "        vertical-align: top;\n",
       "    }\n",
       "\n",
       "    .dataframe thead th {\n",
       "        text-align: right;\n",
       "    }\n",
       "</style>\n",
       "<table border=\"1\" class=\"dataframe\">\n",
       "  <thead>\n",
       "    <tr style=\"text-align: right;\">\n",
       "      <th></th>\n",
       "      <th>BASEL_pleasant_weather</th>\n",
       "      <th>BELGRADE_pleasant_weather</th>\n",
       "      <th>BUDAPEST_pleasant_weather</th>\n",
       "      <th>DEBILT_pleasant_weather</th>\n",
       "      <th>DUSSELDORF_pleasant_weather</th>\n",
       "      <th>HEATHROW_pleasant_weather</th>\n",
       "      <th>KASSEL_pleasant_weather</th>\n",
       "      <th>LJUBLJANA_pleasant_weather</th>\n",
       "      <th>MAASTRICHT_pleasant_weather</th>\n",
       "      <th>MADRID_pleasant_weather</th>\n",
       "      <th>MUNCHENB_pleasant_weather</th>\n",
       "      <th>OSLO_pleasant_weather</th>\n",
       "      <th>SONNBLICK_pleasant_weather</th>\n",
       "      <th>STOCKHOLM_pleasant_weather</th>\n",
       "      <th>VALENTIA_pleasant_weather</th>\n",
       "    </tr>\n",
       "  </thead>\n",
       "  <tbody>\n",
       "    <tr>\n",
       "      <th>0</th>\n",
       "      <td>0</td>\n",
       "      <td>0</td>\n",
       "      <td>0</td>\n",
       "      <td>0</td>\n",
       "      <td>0</td>\n",
       "      <td>0</td>\n",
       "      <td>0</td>\n",
       "      <td>0</td>\n",
       "      <td>0</td>\n",
       "      <td>0</td>\n",
       "      <td>0</td>\n",
       "      <td>0</td>\n",
       "      <td>0</td>\n",
       "      <td>0</td>\n",
       "      <td>0</td>\n",
       "    </tr>\n",
       "    <tr>\n",
       "      <th>1</th>\n",
       "      <td>0</td>\n",
       "      <td>0</td>\n",
       "      <td>0</td>\n",
       "      <td>0</td>\n",
       "      <td>0</td>\n",
       "      <td>0</td>\n",
       "      <td>0</td>\n",
       "      <td>0</td>\n",
       "      <td>0</td>\n",
       "      <td>0</td>\n",
       "      <td>0</td>\n",
       "      <td>0</td>\n",
       "      <td>0</td>\n",
       "      <td>0</td>\n",
       "      <td>0</td>\n",
       "    </tr>\n",
       "    <tr>\n",
       "      <th>2</th>\n",
       "      <td>0</td>\n",
       "      <td>0</td>\n",
       "      <td>0</td>\n",
       "      <td>0</td>\n",
       "      <td>0</td>\n",
       "      <td>0</td>\n",
       "      <td>0</td>\n",
       "      <td>0</td>\n",
       "      <td>0</td>\n",
       "      <td>0</td>\n",
       "      <td>0</td>\n",
       "      <td>0</td>\n",
       "      <td>0</td>\n",
       "      <td>0</td>\n",
       "      <td>0</td>\n",
       "    </tr>\n",
       "    <tr>\n",
       "      <th>3</th>\n",
       "      <td>0</td>\n",
       "      <td>0</td>\n",
       "      <td>0</td>\n",
       "      <td>0</td>\n",
       "      <td>0</td>\n",
       "      <td>0</td>\n",
       "      <td>0</td>\n",
       "      <td>0</td>\n",
       "      <td>0</td>\n",
       "      <td>0</td>\n",
       "      <td>0</td>\n",
       "      <td>0</td>\n",
       "      <td>0</td>\n",
       "      <td>0</td>\n",
       "      <td>0</td>\n",
       "    </tr>\n",
       "    <tr>\n",
       "      <th>4</th>\n",
       "      <td>0</td>\n",
       "      <td>0</td>\n",
       "      <td>0</td>\n",
       "      <td>0</td>\n",
       "      <td>0</td>\n",
       "      <td>0</td>\n",
       "      <td>0</td>\n",
       "      <td>0</td>\n",
       "      <td>0</td>\n",
       "      <td>0</td>\n",
       "      <td>0</td>\n",
       "      <td>0</td>\n",
       "      <td>0</td>\n",
       "      <td>0</td>\n",
       "      <td>0</td>\n",
       "    </tr>\n",
       "  </tbody>\n",
       "</table>\n",
       "</div>"
      ],
      "text/plain": [
       "   BASEL_pleasant_weather  BELGRADE_pleasant_weather  \\\n",
       "0                       0                          0   \n",
       "1                       0                          0   \n",
       "2                       0                          0   \n",
       "3                       0                          0   \n",
       "4                       0                          0   \n",
       "\n",
       "   BUDAPEST_pleasant_weather  DEBILT_pleasant_weather  \\\n",
       "0                          0                        0   \n",
       "1                          0                        0   \n",
       "2                          0                        0   \n",
       "3                          0                        0   \n",
       "4                          0                        0   \n",
       "\n",
       "   DUSSELDORF_pleasant_weather  HEATHROW_pleasant_weather  \\\n",
       "0                            0                          0   \n",
       "1                            0                          0   \n",
       "2                            0                          0   \n",
       "3                            0                          0   \n",
       "4                            0                          0   \n",
       "\n",
       "   KASSEL_pleasant_weather  LJUBLJANA_pleasant_weather  \\\n",
       "0                        0                           0   \n",
       "1                        0                           0   \n",
       "2                        0                           0   \n",
       "3                        0                           0   \n",
       "4                        0                           0   \n",
       "\n",
       "   MAASTRICHT_pleasant_weather  MADRID_pleasant_weather  \\\n",
       "0                            0                        0   \n",
       "1                            0                        0   \n",
       "2                            0                        0   \n",
       "3                            0                        0   \n",
       "4                            0                        0   \n",
       "\n",
       "   MUNCHENB_pleasant_weather  OSLO_pleasant_weather  \\\n",
       "0                          0                      0   \n",
       "1                          0                      0   \n",
       "2                          0                      0   \n",
       "3                          0                      0   \n",
       "4                          0                      0   \n",
       "\n",
       "   SONNBLICK_pleasant_weather  STOCKHOLM_pleasant_weather  \\\n",
       "0                           0                           0   \n",
       "1                           0                           0   \n",
       "2                           0                           0   \n",
       "3                           0                           0   \n",
       "4                           0                           0   \n",
       "\n",
       "   VALENTIA_pleasant_weather  \n",
       "0                          0  \n",
       "1                          0  \n",
       "2                          0  \n",
       "3                          0  \n",
       "4                          0  "
      ]
     },
     "execution_count": 45,
     "metadata": {},
     "output_type": "execute_result"
    }
   ],
   "source": [
    "pleasant.head()"
   ]
  },
  {
   "cell_type": "code",
   "execution_count": 47,
   "id": "4789fdb3-4e17-486b-8a33-cf77bf1613f9",
   "metadata": {},
   "outputs": [],
   "source": [
    "df3.to_csv(os.path.join(path, 'weather cleaned.csv'))"
   ]
  },
  {
   "cell_type": "markdown",
   "id": "b333f3a3-0d2c-4ad2-8b9e-d38ae3c28e92",
   "metadata": {},
   "source": [
    "### 3. Data Reshape "
   ]
  },
  {
   "cell_type": "code",
   "execution_count": 29,
   "id": "53c238ef-a35a-46ce-b255-105e7f47bb02",
   "metadata": {},
   "outputs": [],
   "source": [
    "X = df3\n",
    "y = pleasant"
   ]
  },
  {
   "cell_type": "code",
   "execution_count": 30,
   "id": "71fee25e-659c-4bb5-9876-3d2e7eca2dd6",
   "metadata": {},
   "outputs": [
    {
     "data": {
      "text/plain": [
       "array([[ 7.    ,  0.85  ,  1.018 , ...,  8.5   ,  6.    , 10.9   ],\n",
       "       [ 6.    ,  0.84  ,  1.018 , ...,  8.9   ,  5.6   , 12.1   ],\n",
       "       [ 8.    ,  0.9   ,  1.018 , ..., 10.5   ,  8.1   , 12.9   ],\n",
       "       ...,\n",
       "       [ 4.    ,  0.76  ,  1.0227, ..., 10.7   ,  7.9   , 13.5   ],\n",
       "       [ 5.    ,  0.8   ,  1.0212, ..., 10.7   ,  7.9   , 13.5   ],\n",
       "       [ 5.    ,  0.84  ,  1.0193, ..., 10.7   ,  7.9   , 13.5   ]])"
      ]
     },
     "execution_count": 30,
     "metadata": {},
     "output_type": "execute_result"
    }
   ],
   "source": [
    "# Turn X and y into arrays\n",
    "X = np.array(X)\n",
    "y\n",
    "y= np.array(y)\n",
    "X"
   ]
  },
  {
   "cell_type": "code",
   "execution_count": 31,
   "id": "bf677968-8933-4ce2-8538-b5c9ee5ee7fe",
   "metadata": {},
   "outputs": [
    {
     "data": {
      "text/plain": [
       "(22950, 135)"
      ]
     },
     "execution_count": 31,
     "metadata": {},
     "output_type": "execute_result"
    }
   ],
   "source": [
    "X.shape"
   ]
  },
  {
   "cell_type": "code",
   "execution_count": 32,
   "id": "7ed243da-da11-42c4-b056-97c5e6cbfdbd",
   "metadata": {},
   "outputs": [],
   "source": [
    "X = X.reshape(-1,15,9)"
   ]
  },
  {
   "cell_type": "code",
   "execution_count": 33,
   "id": "48906725-a79d-4dfc-94da-37c10732c496",
   "metadata": {
    "scrolled": true
   },
   "outputs": [
    {
     "data": {
      "text/plain": [
       "(22950, 15, 9)"
      ]
     },
     "execution_count": 33,
     "metadata": {},
     "output_type": "execute_result"
    }
   ],
   "source": [
    "X.shape"
   ]
  },
  {
   "cell_type": "markdown",
   "id": "c3e65226-99a2-41e4-b3cb-3aa0554e7331",
   "metadata": {},
   "source": [
    "### 4. Data Splitting"
   ]
  },
  {
   "cell_type": "code",
   "execution_count": 35,
   "id": "52dbd932-2415-478b-9558-4553bf240224",
   "metadata": {},
   "outputs": [],
   "source": [
    "X_train, X_test, y_train, y_test = train_test_split(X,y,random_state = 42)"
   ]
  },
  {
   "cell_type": "code",
   "execution_count": 63,
   "id": "d2c4ae66-f9cb-4037-a643-dfd3aa84c40d",
   "metadata": {},
   "outputs": [
    {
     "name": "stdout",
     "output_type": "stream",
     "text": [
      "(17212, 15, 9) (17212, 15)\n",
      "(5738, 15, 9) (5738, 15)\n"
     ]
    }
   ],
   "source": [
    "print(X_train.shape, y_train.shape)\n",
    "print(X_test.shape, y_test.shape)"
   ]
  },
  {
   "cell_type": "markdown",
   "id": "c8d6fe05-2e2c-4237-af5f-8b6d5d0c0ec5",
   "metadata": {},
   "source": [
    "### 5. Creating Keras"
   ]
  },
  {
   "cell_type": "code",
   "execution_count": 66,
   "id": "c3d70403-c537-4bc4-87a0-11f19468e4aa",
   "metadata": {},
   "outputs": [],
   "source": [
    "epochs = 30\n",
    "batch_size = 16\n",
    "n_hidden = 32\n",
    "\n",
    "timesteps = len(X_train[0])\n",
    "input_dim = len(X_train[0][0])\n",
    "n_classes = len(y_train[0])\n",
    "\n",
    "model = Sequential()\n",
    "model.add(Conv1D(n_hidden, kernel_size=2, activation='relu', input_shape=(timesteps, input_dim)))\n",
    "model.add(Dense(16, activation='relu'))\n",
    "model.add(MaxPooling1D())\n",
    "model.add(Flatten())\n",
    "model.add(Dense(n_classes, activation='softmax')) # Options: sigmoid, tanh, softmax, relu"
   ]
  },
  {
   "cell_type": "code",
   "execution_count": 68,
   "id": "653716f4-4646-4433-af30-ea28a8f9f9eb",
   "metadata": {},
   "outputs": [
    {
     "name": "stdout",
     "output_type": "stream",
     "text": [
      "Model: \"sequential\"\n",
      "_________________________________________________________________\n",
      " Layer (type)                Output Shape              Param #   \n",
      "=================================================================\n",
      " conv1d (Conv1D)             (None, 14, 32)            608       \n",
      "                                                                 \n",
      " dense (Dense)               (None, 14, 16)            528       \n",
      "                                                                 \n",
      " max_pooling1d (MaxPooling1D  (None, 7, 16)            0         \n",
      " )                                                               \n",
      "                                                                 \n",
      " flatten (Flatten)           (None, 112)               0         \n",
      "                                                                 \n",
      " dense_1 (Dense)             (None, 15)                1695      \n",
      "                                                                 \n",
      "=================================================================\n",
      "Total params: 2,831\n",
      "Trainable params: 2,831\n",
      "Non-trainable params: 0\n",
      "_________________________________________________________________\n"
     ]
    }
   ],
   "source": [
    "model.summary()"
   ]
  },
  {
   "cell_type": "markdown",
   "id": "299281f8-bb41-47e7-b38f-c08fd8c4332b",
   "metadata": {},
   "source": [
    "### 6. Running Model - Softmax"
   ]
  },
  {
   "cell_type": "code",
   "execution_count": 74,
   "id": "71cbb19b-f78b-4340-9baa-b4b038d6e77d",
   "metadata": {},
   "outputs": [],
   "source": [
    "model.compile(loss='categorical_crossentropy', optimizer='adam', metrics=['accuracy'])"
   ]
  },
  {
   "cell_type": "code",
   "execution_count": 76,
   "id": "98a510db-73c8-42b5-b5de-a166b0b94f8a",
   "metadata": {},
   "outputs": [
    {
     "name": "stdout",
     "output_type": "stream",
     "text": [
      "Epoch 1/30\n",
      "1076/1076 - 5s - loss: 5114.0425 - accuracy: 0.1011 - 5s/epoch - 4ms/step\n",
      "Epoch 2/30\n",
      "1076/1076 - 2s - loss: 52195.8398 - accuracy: 0.1265 - 2s/epoch - 2ms/step\n",
      "Epoch 3/30\n",
      "1076/1076 - 2s - loss: 181577.4688 - accuracy: 0.1316 - 2s/epoch - 2ms/step\n",
      "Epoch 4/30\n",
      "1076/1076 - 2s - loss: 400687.2188 - accuracy: 0.1297 - 2s/epoch - 2ms/step\n",
      "Epoch 5/30\n",
      "1076/1076 - 2s - loss: 690315.5000 - accuracy: 0.1326 - 2s/epoch - 2ms/step\n",
      "Epoch 6/30\n",
      "1076/1076 - 2s - loss: 1114624.6250 - accuracy: 0.1358 - 2s/epoch - 2ms/step\n",
      "Epoch 7/30\n",
      "1076/1076 - 2s - loss: 1616822.5000 - accuracy: 0.1377 - 2s/epoch - 2ms/step\n",
      "Epoch 8/30\n",
      "1076/1076 - 2s - loss: 2253479.0000 - accuracy: 0.1377 - 2s/epoch - 2ms/step\n",
      "Epoch 9/30\n",
      "1076/1076 - 2s - loss: 3001816.7500 - accuracy: 0.1372 - 2s/epoch - 2ms/step\n",
      "Epoch 10/30\n",
      "1076/1076 - 2s - loss: 3917310.2500 - accuracy: 0.1329 - 2s/epoch - 2ms/step\n",
      "Epoch 11/30\n",
      "1076/1076 - 2s - loss: 4984497.5000 - accuracy: 0.1353 - 2s/epoch - 2ms/step\n",
      "Epoch 12/30\n",
      "1076/1076 - 3s - loss: 6068030.0000 - accuracy: 0.1342 - 3s/epoch - 3ms/step\n",
      "Epoch 13/30\n",
      "1076/1076 - 3s - loss: 7475466.0000 - accuracy: 0.1322 - 3s/epoch - 3ms/step\n",
      "Epoch 14/30\n",
      "1076/1076 - 4s - loss: 8947771.0000 - accuracy: 0.1372 - 4s/epoch - 3ms/step\n",
      "Epoch 15/30\n",
      "1076/1076 - 4s - loss: 10724432.0000 - accuracy: 0.1326 - 4s/epoch - 4ms/step\n",
      "Epoch 16/30\n",
      "1076/1076 - 4s - loss: 12526701.0000 - accuracy: 0.1318 - 4s/epoch - 3ms/step\n",
      "Epoch 17/30\n",
      "1076/1076 - 3s - loss: 14655058.0000 - accuracy: 0.1268 - 3s/epoch - 3ms/step\n",
      "Epoch 18/30\n",
      "1076/1076 - 3s - loss: 16847704.0000 - accuracy: 0.1266 - 3s/epoch - 3ms/step\n",
      "Epoch 19/30\n",
      "1076/1076 - 5s - loss: 19281538.0000 - accuracy: 0.1262 - 5s/epoch - 4ms/step\n",
      "Epoch 20/30\n",
      "1076/1076 - 4s - loss: 22339846.0000 - accuracy: 0.1283 - 4s/epoch - 3ms/step\n",
      "Epoch 21/30\n",
      "1076/1076 - 3s - loss: 25361106.0000 - accuracy: 0.1250 - 3s/epoch - 3ms/step\n",
      "Epoch 22/30\n",
      "1076/1076 - 3s - loss: 28659098.0000 - accuracy: 0.1277 - 3s/epoch - 3ms/step\n",
      "Epoch 23/30\n",
      "1076/1076 - 4s - loss: 32088766.0000 - accuracy: 0.1271 - 4s/epoch - 4ms/step\n",
      "Epoch 24/30\n",
      "1076/1076 - 4s - loss: 35890028.0000 - accuracy: 0.1284 - 4s/epoch - 3ms/step\n",
      "Epoch 25/30\n",
      "1076/1076 - 3s - loss: 39988888.0000 - accuracy: 0.1281 - 3s/epoch - 3ms/step\n",
      "Epoch 26/30\n",
      "1076/1076 - 3s - loss: 44546292.0000 - accuracy: 0.1226 - 3s/epoch - 3ms/step\n",
      "Epoch 27/30\n",
      "1076/1076 - 4s - loss: 49030068.0000 - accuracy: 0.1244 - 4s/epoch - 3ms/step\n",
      "Epoch 28/30\n",
      "1076/1076 - 4s - loss: 54161072.0000 - accuracy: 0.1213 - 4s/epoch - 4ms/step\n",
      "Epoch 29/30\n",
      "1076/1076 - 3s - loss: 59106384.0000 - accuracy: 0.1229 - 3s/epoch - 3ms/step\n",
      "Epoch 30/30\n",
      "1076/1076 - 3s - loss: 65062292.0000 - accuracy: 0.1225 - 3s/epoch - 3ms/step\n"
     ]
    },
    {
     "data": {
      "text/plain": [
       "<keras.callbacks.History at 0x1b6a149a4c0>"
      ]
     },
     "execution_count": 76,
     "metadata": {},
     "output_type": "execute_result"
    }
   ],
   "source": [
    "model.fit(X_train, y_train, batch_size=batch_size, epochs=epochs, verbose=2)"
   ]
  },
  {
   "cell_type": "markdown",
   "id": "19cba71c-6603-44cf-b010-0dceed313471",
   "metadata": {},
   "source": [
    "### 7. Confusion Matrix"
   ]
  },
  {
   "cell_type": "code",
   "execution_count": 79,
   "id": "94a80024-ac50-45ad-9530-ed775fea6d57",
   "metadata": {},
   "outputs": [],
   "source": [
    "# Define list of stations names\n",
    "\n",
    "stations = {\n",
    "0: 'BASEL',\n",
    "1: 'BELGRADE',\n",
    "2: 'BUDAPEST',\n",
    "3: 'DEBILT',\n",
    "4: 'DUSSELDORF',\n",
    "5: 'HEATHROW',\n",
    "6: 'KASSEL',\n",
    "7: 'LJUBLJANA',\n",
    "8: 'MAASTRICHT',\n",
    "9: 'MADRID',\n",
    "10: 'MUNCHENB',\n",
    "11: 'OSLO',\n",
    "12: 'SONNBLICK',\n",
    "13: 'STOCKHOLM',\n",
    "14: 'VALENTIA'\n",
    "\n",
    "}"
   ]
  },
  {
   "cell_type": "code",
   "execution_count": 81,
   "id": "e7b7bba6-d7a4-412b-9c47-3989cf37464c",
   "metadata": {},
   "outputs": [],
   "source": [
    "def confusion_matrix(y_true, y_pred):\n",
    "    y_true = pd.Series([stations[y] for y in np.argmax(y_true, axis=1)])\n",
    "    y_pred = pd.Series([stations[y] for y in np.argmax(y_pred, axis=1)])\n",
    "\n",
    "    return pd.crosstab(y_true, y_pred, rownames=['True'], colnames=['Pred'])"
   ]
  },
  {
   "cell_type": "code",
   "execution_count": 83,
   "id": "6aba240d-5dce-475c-99df-0f8b1ee75527",
   "metadata": {},
   "outputs": [
    {
     "name": "stdout",
     "output_type": "stream",
     "text": [
      "180/180 [==============================] - 0s 1ms/step\n",
      "Pred        BASEL  BELGRADE  BUDAPEST  DEBILT  DUSSELDORF  HEATHROW  KASSEL  \\\n",
      "True                                                                          \n",
      "BASEL         116       530        14      16        1407       113      34   \n",
      "BELGRADE        0       293         0       0         467         3       0   \n",
      "BUDAPEST        0        34         0       0          91         0       0   \n",
      "DEBILT          0        16         0       0          39         0       0   \n",
      "DUSSELDORF      0         3         0       0          15         0       0   \n",
      "HEATHROW        0         3         0       0          39         0       0   \n",
      "KASSEL          0         2         0       0           6         0       0   \n",
      "LJUBLJANA       0        13         0       0          19         0       0   \n",
      "MAASTRICHT      0         1         0       0           4         0       0   \n",
      "MADRID          2        21         0       0         165        22       1   \n",
      "MUNCHENB        0         4         0       0           0         0       0   \n",
      "OSLO            0         1         0       0           0         0       0   \n",
      "STOCKHOLM       0         2         0       0           0         0       0   \n",
      "VALENTIA        0         0         0       0           0         0       0   \n",
      "\n",
      "Pred        LJUBLJANA  MADRID  MUNCHENB  OSLO  SONNBLICK  STOCKHOLM  VALENTIA  \n",
      "True                                                                           \n",
      "BASEL              71     603       385   104          5        253        31  \n",
      "BELGRADE            0     203        18    12          0         96         0  \n",
      "BUDAPEST            0      51         0     5          0         33         0  \n",
      "DEBILT              0       6         1     6          0         14         0  \n",
      "DUSSELDORF          0       4         0     1          0          6         0  \n",
      "HEATHROW            0      21         0     4          0         15         0  \n",
      "KASSEL              0       1         1     1          0          0         0  \n",
      "LJUBLJANA           0      24         1     2          0          2         0  \n",
      "MAASTRICHT          0       3         1     0          0          0         0  \n",
      "MADRID              0     174        11    20          0         42         0  \n",
      "MUNCHENB            0       2         1     1          0          0         0  \n",
      "OSLO                0       0         0     2          0          2         0  \n",
      "STOCKHOLM           0       1         0     0          0          1         0  \n",
      "VALENTIA            0       0         0     0          0          1         0  \n"
     ]
    }
   ],
   "source": [
    "# Evaluate\n",
    "print(confusion_matrix(y_test, model.predict(X_test)))"
   ]
  },
  {
   "cell_type": "markdown",
   "id": "5c8302d8-09d3-4317-9348-24a826ff17d5",
   "metadata": {},
   "source": [
    "The model did not provide good results, a loss of 65% and accuracy of 12%, i will retry with different parameters"
   ]
  },
  {
   "cell_type": "code",
   "execution_count": 86,
   "id": "f960c0d0-b5fb-4a31-975a-bc2384914cff",
   "metadata": {},
   "outputs": [],
   "source": [
    "epochs = 30\n",
    "batch_size = 16\n",
    "n_hidden = 4\n",
    "\n",
    "timesteps = len(X_train[0])\n",
    "input_dim = len(X_train[0][0])\n",
    "n_classes = len(y_train[0])\n",
    "\n",
    "model = Sequential()\n",
    "model.add(Conv1D(n_hidden, kernel_size=2, activation='relu', input_shape=(timesteps, input_dim)))\n",
    "model.add(Dense(16, activation='relu'))\n",
    "model.add(MaxPooling1D())\n",
    "model.add(Flatten())\n",
    "model.add(Dense(n_classes, activation='softmax')) # Options: sigmoid, tanh, softmax, relu"
   ]
  },
  {
   "cell_type": "code",
   "execution_count": 88,
   "id": "940d78f5-33b4-45ae-bdca-0d114c5a9291",
   "metadata": {},
   "outputs": [
    {
     "name": "stdout",
     "output_type": "stream",
     "text": [
      "Model: \"sequential_1\"\n",
      "_________________________________________________________________\n",
      " Layer (type)                Output Shape              Param #   \n",
      "=================================================================\n",
      " conv1d_1 (Conv1D)           (None, 14, 4)             76        \n",
      "                                                                 \n",
      " dense_2 (Dense)             (None, 14, 16)            80        \n",
      "                                                                 \n",
      " max_pooling1d_1 (MaxPooling  (None, 7, 16)            0         \n",
      " 1D)                                                             \n",
      "                                                                 \n",
      " flatten_1 (Flatten)         (None, 112)               0         \n",
      "                                                                 \n",
      " dense_3 (Dense)             (None, 15)                1695      \n",
      "                                                                 \n",
      "=================================================================\n",
      "Total params: 1,851\n",
      "Trainable params: 1,851\n",
      "Non-trainable params: 0\n",
      "_________________________________________________________________\n"
     ]
    }
   ],
   "source": [
    "model.summary()"
   ]
  },
  {
   "cell_type": "code",
   "execution_count": 91,
   "id": "caeb47d4-3d1d-4989-b906-d8e45bad762c",
   "metadata": {},
   "outputs": [],
   "source": [
    "model.compile(loss='categorical_crossentropy', optimizer='adam', metrics=['accuracy'])"
   ]
  },
  {
   "cell_type": "code",
   "execution_count": 93,
   "id": "be2ca99b-54c1-43a5-89e0-d703620a77bf",
   "metadata": {},
   "outputs": [
    {
     "name": "stdout",
     "output_type": "stream",
     "text": [
      "Epoch 1/30\n",
      "1076/1076 - 2s - loss: 819.9437 - accuracy: 0.1263 - 2s/epoch - 2ms/step\n",
      "Epoch 2/30\n",
      "1076/1076 - 3s - loss: 9017.6689 - accuracy: 0.1393 - 3s/epoch - 3ms/step\n",
      "Epoch 3/30\n",
      "1076/1076 - 2s - loss: 30178.9336 - accuracy: 0.1270 - 2s/epoch - 2ms/step\n",
      "Epoch 4/30\n",
      "1076/1076 - 2s - loss: 65401.8945 - accuracy: 0.1209 - 2s/epoch - 2ms/step\n",
      "Epoch 5/30\n",
      "1076/1076 - 2s - loss: 113405.2969 - accuracy: 0.1173 - 2s/epoch - 2ms/step\n",
      "Epoch 6/30\n",
      "1076/1076 - 2s - loss: 179180.2344 - accuracy: 0.1163 - 2s/epoch - 2ms/step\n",
      "Epoch 7/30\n",
      "1076/1076 - 2s - loss: 256496.7969 - accuracy: 0.1226 - 2s/epoch - 2ms/step\n",
      "Epoch 8/30\n",
      "1076/1076 - 2s - loss: 351834.5000 - accuracy: 0.1215 - 2s/epoch - 2ms/step\n",
      "Epoch 9/30\n",
      "1076/1076 - 4s - loss: 468933.7812 - accuracy: 0.1194 - 4s/epoch - 4ms/step\n",
      "Epoch 10/30\n",
      "1076/1076 - 4s - loss: 605242.0000 - accuracy: 0.1217 - 4s/epoch - 4ms/step\n",
      "Epoch 11/30\n",
      "1076/1076 - 3s - loss: 753433.8125 - accuracy: 0.1211 - 3s/epoch - 3ms/step\n",
      "Epoch 12/30\n",
      "1076/1076 - 3s - loss: 939351.0000 - accuracy: 0.1201 - 3s/epoch - 3ms/step\n",
      "Epoch 13/30\n",
      "1076/1076 - 3s - loss: 1141524.5000 - accuracy: 0.1218 - 3s/epoch - 3ms/step\n",
      "Epoch 14/30\n",
      "1076/1076 - 4s - loss: 1368023.2500 - accuracy: 0.1271 - 4s/epoch - 4ms/step\n",
      "Epoch 15/30\n",
      "1076/1076 - 3s - loss: 1632008.2500 - accuracy: 0.1229 - 3s/epoch - 3ms/step\n",
      "Epoch 16/30\n",
      "1076/1076 - 3s - loss: 1922121.8750 - accuracy: 0.1168 - 3s/epoch - 3ms/step\n",
      "Epoch 17/30\n",
      "1076/1076 - 4s - loss: 2248648.0000 - accuracy: 0.1211 - 4s/epoch - 3ms/step\n",
      "Epoch 18/30\n",
      "1076/1076 - 4s - loss: 2587063.7500 - accuracy: 0.1176 - 4s/epoch - 4ms/step\n",
      "Epoch 19/30\n",
      "1076/1076 - 3s - loss: 2979822.5000 - accuracy: 0.1216 - 3s/epoch - 3ms/step\n",
      "Epoch 20/30\n",
      "1076/1076 - 3s - loss: 3370751.7500 - accuracy: 0.1133 - 3s/epoch - 3ms/step\n",
      "Epoch 21/30\n",
      "1076/1076 - 3s - loss: 3832832.2500 - accuracy: 0.1152 - 3s/epoch - 3ms/step\n",
      "Epoch 22/30\n",
      "1076/1076 - 4s - loss: 4312547.5000 - accuracy: 0.1175 - 4s/epoch - 3ms/step\n",
      "Epoch 23/30\n",
      "1076/1076 - 4s - loss: 4835321.5000 - accuracy: 0.1181 - 4s/epoch - 4ms/step\n",
      "Epoch 24/30\n",
      "1076/1076 - 4s - loss: 5380900.0000 - accuracy: 0.1188 - 4s/epoch - 3ms/step\n",
      "Epoch 25/30\n",
      "1076/1076 - 4s - loss: 6034686.0000 - accuracy: 0.1195 - 4s/epoch - 3ms/step\n",
      "Epoch 26/30\n",
      "1076/1076 - 4s - loss: 6694252.5000 - accuracy: 0.1190 - 4s/epoch - 3ms/step\n",
      "Epoch 27/30\n",
      "1076/1076 - 4s - loss: 7398034.0000 - accuracy: 0.1216 - 4s/epoch - 4ms/step\n",
      "Epoch 28/30\n",
      "1076/1076 - 5s - loss: 8136573.0000 - accuracy: 0.1164 - 5s/epoch - 5ms/step\n",
      "Epoch 29/30\n",
      "1076/1076 - 4s - loss: 8948713.0000 - accuracy: 0.1165 - 4s/epoch - 4ms/step\n",
      "Epoch 30/30\n",
      "1076/1076 - 4s - loss: 9805447.0000 - accuracy: 0.1189 - 4s/epoch - 3ms/step\n"
     ]
    },
    {
     "data": {
      "text/plain": [
       "<keras.callbacks.History at 0x1b6a2567760>"
      ]
     },
     "execution_count": 93,
     "metadata": {},
     "output_type": "execute_result"
    }
   ],
   "source": [
    "model.fit(X_train, y_train, batch_size=batch_size, epochs=epochs, verbose=2)"
   ]
  },
  {
   "cell_type": "code",
   "execution_count": 95,
   "id": "7ff0e7a4-bab5-4a6a-b829-28d728f16d6d",
   "metadata": {},
   "outputs": [],
   "source": [
    "def confusion_matrix(y_true, y_pred):\n",
    "    y_true = pd.Series([stations[y] for y in np.argmax(y_true, axis=1)])\n",
    "    y_pred = pd.Series([stations[y] for y in np.argmax(y_pred, axis=1)])\n",
    "\n",
    "    return pd.crosstab(y_true, y_pred, rownames=['True'], colnames=['Pred'])"
   ]
  },
  {
   "cell_type": "code",
   "execution_count": 97,
   "id": "6556901b-3cbc-4403-99ac-6ad11670eb2e",
   "metadata": {},
   "outputs": [
    {
     "name": "stdout",
     "output_type": "stream",
     "text": [
      "180/180 [==============================] - 0s 1ms/step\n",
      "Pred        BASEL  BELGRADE  BUDAPEST  DEBILT  DUSSELDORF  HEATHROW  KASSEL  \\\n",
      "True                                                                          \n",
      "BASEL         390       204       205      50           2        11       1   \n",
      "BELGRADE      124        12        96       0           0         0       0   \n",
      "BUDAPEST       13         0        12       0           0         0       0   \n",
      "DEBILT         18         0         0       0           0         0       0   \n",
      "DUSSELDORF      1         0         0       0           0         0       0   \n",
      "HEATHROW        0         0         1       0           0         0       0   \n",
      "KASSEL          4         0         0       0           0         0       0   \n",
      "LJUBLJANA       2         0         3       0           0         0       0   \n",
      "MAASTRICHT      1         0         0       0           0         0       0   \n",
      "MADRID         11         2        13       1           0         2       0   \n",
      "MUNCHENB        1         0         0       0           0         0       0   \n",
      "OSLO            0         0         0       0           0         0       0   \n",
      "STOCKHOLM       1         0         1       0           0         0       0   \n",
      "VALENTIA        0         0         0       0           0         0       0   \n",
      "\n",
      "Pred        LJUBLJANA  MAASTRICHT  MADRID  MUNCHENB  OSLO  SONNBLICK  \\\n",
      "True                                                                   \n",
      "BASEL              98        1117    1018        16   113          3   \n",
      "BELGRADE            0         248     433         0    12          0   \n",
      "BUDAPEST            0          46      96         0     6          0   \n",
      "DEBILT              0          27      11         0     5          0   \n",
      "DUSSELDORF          0          10       7         0     1          0   \n",
      "HEATHROW            0          29      26         0     7          0   \n",
      "KASSEL              0           4       1         0     1          0   \n",
      "LJUBLJANA           0          12      39         0     0          0   \n",
      "MAASTRICHT          0           5       3         0     0          0   \n",
      "MADRID              0         130     210         0    18          0   \n",
      "MUNCHENB            0           0       6         0     1          0   \n",
      "OSLO                0           0       1         0     2          0   \n",
      "STOCKHOLM           0           0       1         0     1          0   \n",
      "VALENTIA            0           0       0         0     1          0   \n",
      "\n",
      "Pred        STOCKHOLM  VALENTIA  \n",
      "True                             \n",
      "BASEL             440        14  \n",
      "BELGRADE          167         0  \n",
      "BUDAPEST           41         0  \n",
      "DEBILT             21         0  \n",
      "DUSSELDORF         10         0  \n",
      "HEATHROW           19         0  \n",
      "KASSEL              1         0  \n",
      "LJUBLJANA           5         0  \n",
      "MAASTRICHT          0         0  \n",
      "MADRID             71         0  \n",
      "MUNCHENB            0         0  \n",
      "OSLO                2         0  \n",
      "STOCKHOLM           0         0  \n",
      "VALENTIA            0         0  \n"
     ]
    }
   ],
   "source": [
    "# Evaluate\n",
    "\n",
    "print(confusion_matrix(y_test, model.predict(X_test)))"
   ]
  },
  {
   "cell_type": "markdown",
   "id": "77a92b22-f0c5-4e16-b845-bf52edd24dac",
   "metadata": {},
   "source": [
    "This model is worse than the first one. The accuracy is 11% and the loss is 98%\n",
    "<BR> I will try a few different activation functions to see if i can get better results "
   ]
  },
  {
   "cell_type": "markdown",
   "id": "d81a06a0-69be-4b7f-a662-beed3dc63b8d",
   "metadata": {},
   "source": [
    "### 8. Tanh"
   ]
  },
  {
   "cell_type": "code",
   "execution_count": 111,
   "id": "8eb94fdb-fd9e-48c2-8ed5-d1d755273534",
   "metadata": {},
   "outputs": [],
   "source": [
    "epochs = 30\n",
    "batch_size = 16\n",
    "n_hidden = 128\n",
    "\n",
    "timesteps = len(X_train[0])\n",
    "input_dim = len(X_train[0][0])\n",
    "n_classes = len(y_train[0])\n",
    "\n",
    "model = Sequential()\n",
    "model.add(Conv1D(n_hidden, kernel_size=2, activation='relu', input_shape=(timesteps, input_dim)))\n",
    "model.add(Dense(16, activation='relu'))\n",
    "model.add(MaxPooling1D())\n",
    "model.add(Flatten())\n",
    "model.add(Dense(n_classes, activation='tanh')) # Options: sigmoid, tanh, softmax, relu"
   ]
  },
  {
   "cell_type": "code",
   "execution_count": 113,
   "id": "81a88c74-2185-4455-a59a-adb02bf71d56",
   "metadata": {},
   "outputs": [
    {
     "name": "stdout",
     "output_type": "stream",
     "text": [
      "Model: \"sequential_2\"\n",
      "_________________________________________________________________\n",
      " Layer (type)                Output Shape              Param #   \n",
      "=================================================================\n",
      " conv1d_2 (Conv1D)           (None, 14, 128)           2432      \n",
      "                                                                 \n",
      " dense_4 (Dense)             (None, 14, 16)            2064      \n",
      "                                                                 \n",
      " max_pooling1d_2 (MaxPooling  (None, 7, 16)            0         \n",
      " 1D)                                                             \n",
      "                                                                 \n",
      " flatten_2 (Flatten)         (None, 112)               0         \n",
      "                                                                 \n",
      " dense_5 (Dense)             (None, 15)                1695      \n",
      "                                                                 \n",
      "=================================================================\n",
      "Total params: 6,191\n",
      "Trainable params: 6,191\n",
      "Non-trainable params: 0\n",
      "_________________________________________________________________\n"
     ]
    }
   ],
   "source": [
    "model.summary()"
   ]
  },
  {
   "cell_type": "code",
   "execution_count": 115,
   "id": "4e6c2827-7968-48c6-a70b-2ebe59fcb38e",
   "metadata": {},
   "outputs": [],
   "source": [
    "model.compile(loss='categorical_crossentropy', optimizer='adam', metrics=['accuracy'])"
   ]
  },
  {
   "cell_type": "code",
   "execution_count": 117,
   "id": "14afb1ac-ba04-4a23-b6c9-768906e3d656",
   "metadata": {},
   "outputs": [
    {
     "name": "stdout",
     "output_type": "stream",
     "text": [
      "Epoch 1/30\n",
      "1076/1076 - 3s - loss: 24.8983 - accuracy: 0.0212 - 3s/epoch - 3ms/step\n",
      "Epoch 2/30\n",
      "1076/1076 - 2s - loss: 25.0302 - accuracy: 0.0457 - 2s/epoch - 2ms/step\n",
      "Epoch 3/30\n",
      "1076/1076 - 2s - loss: 23.6800 - accuracy: 0.0769 - 2s/epoch - 2ms/step\n",
      "Epoch 4/30\n",
      "1076/1076 - 2s - loss: 20.3920 - accuracy: 0.1766 - 2s/epoch - 2ms/step\n",
      "Epoch 5/30\n",
      "1076/1076 - 3s - loss: 20.3920 - accuracy: 0.1770 - 3s/epoch - 2ms/step\n",
      "Epoch 6/30\n",
      "1076/1076 - 2s - loss: 20.3920 - accuracy: 0.1771 - 2s/epoch - 2ms/step\n",
      "Epoch 7/30\n",
      "1076/1076 - 2s - loss: 20.3920 - accuracy: 0.1771 - 2s/epoch - 2ms/step\n",
      "Epoch 8/30\n",
      "1076/1076 - 2s - loss: 20.3920 - accuracy: 0.1771 - 2s/epoch - 2ms/step\n",
      "Epoch 9/30\n",
      "1076/1076 - 3s - loss: 20.3920 - accuracy: 0.1772 - 3s/epoch - 3ms/step\n",
      "Epoch 10/30\n",
      "1076/1076 - 4s - loss: 20.3920 - accuracy: 0.1772 - 4s/epoch - 3ms/step\n",
      "Epoch 11/30\n",
      "1076/1076 - 5s - loss: 20.3920 - accuracy: 0.1772 - 5s/epoch - 4ms/step\n",
      "Epoch 12/30\n",
      "1076/1076 - 4s - loss: 20.3920 - accuracy: 0.1774 - 4s/epoch - 4ms/step\n",
      "Epoch 13/30\n",
      "1076/1076 - 4s - loss: 20.3920 - accuracy: 0.1778 - 4s/epoch - 4ms/step\n",
      "Epoch 14/30\n",
      "1076/1076 - 4s - loss: 20.3920 - accuracy: 0.1778 - 4s/epoch - 4ms/step\n",
      "Epoch 15/30\n",
      "1076/1076 - 5s - loss: 20.3920 - accuracy: 0.1778 - 5s/epoch - 4ms/step\n",
      "Epoch 16/30\n",
      "1076/1076 - 4s - loss: 20.3920 - accuracy: 0.1778 - 4s/epoch - 4ms/step\n",
      "Epoch 17/30\n",
      "1076/1076 - 4s - loss: 20.3920 - accuracy: 0.1778 - 4s/epoch - 4ms/step\n",
      "Epoch 18/30\n",
      "1076/1076 - 5s - loss: 20.3920 - accuracy: 0.1778 - 5s/epoch - 5ms/step\n",
      "Epoch 19/30\n",
      "1076/1076 - 4s - loss: 20.3920 - accuracy: 0.1778 - 4s/epoch - 4ms/step\n",
      "Epoch 20/30\n",
      "1076/1076 - 4s - loss: 20.3920 - accuracy: 0.1778 - 4s/epoch - 4ms/step\n",
      "Epoch 21/30\n",
      "1076/1076 - 4s - loss: 20.3920 - accuracy: 0.1778 - 4s/epoch - 4ms/step\n",
      "Epoch 22/30\n",
      "1076/1076 - 5s - loss: 20.3920 - accuracy: 0.1778 - 5s/epoch - 4ms/step\n",
      "Epoch 23/30\n",
      "1076/1076 - 4s - loss: 20.3920 - accuracy: 0.1778 - 4s/epoch - 4ms/step\n",
      "Epoch 24/30\n",
      "1076/1076 - 4s - loss: 20.3920 - accuracy: 0.1778 - 4s/epoch - 4ms/step\n",
      "Epoch 25/30\n",
      "1076/1076 - 5s - loss: 20.3920 - accuracy: 0.1778 - 5s/epoch - 4ms/step\n",
      "Epoch 26/30\n",
      "1076/1076 - 5s - loss: 20.3920 - accuracy: 0.1778 - 5s/epoch - 4ms/step\n",
      "Epoch 27/30\n",
      "1076/1076 - 4s - loss: 20.3920 - accuracy: 0.1778 - 4s/epoch - 4ms/step\n",
      "Epoch 28/30\n",
      "1076/1076 - 4s - loss: 20.3920 - accuracy: 0.1778 - 4s/epoch - 4ms/step\n",
      "Epoch 29/30\n",
      "1076/1076 - 5s - loss: 20.3920 - accuracy: 0.1778 - 5s/epoch - 5ms/step\n",
      "Epoch 30/30\n",
      "1076/1076 - 4s - loss: 20.3920 - accuracy: 0.1778 - 4s/epoch - 4ms/step\n"
     ]
    },
    {
     "data": {
      "text/plain": [
       "<keras.callbacks.History at 0x1b6a717b880>"
      ]
     },
     "execution_count": 117,
     "metadata": {},
     "output_type": "execute_result"
    }
   ],
   "source": [
    "model.fit(X_train, y_train, batch_size=batch_size, epochs=epochs, verbose=2)"
   ]
  },
  {
   "cell_type": "code",
   "execution_count": 121,
   "id": "98bb6e09-fafc-44f7-91a0-3d0dd3352bc4",
   "metadata": {},
   "outputs": [],
   "source": [
    "def confusion_matrix(y_true, y_pred):\n",
    "    y_true = pd.Series([stations[y] for y in np.argmax(y_true, axis=1)])\n",
    "    y_pred = pd.Series([stations[y] for y in np.argmax(y_pred, axis=1)])\n",
    "\n",
    "    return pd.crosstab(y_true, y_pred, rownames=['True'], colnames=['Pred'])"
   ]
  },
  {
   "cell_type": "code",
   "execution_count": 123,
   "id": "c175e747-2b32-4c66-82b2-da9d3ba78b63",
   "metadata": {},
   "outputs": [
    {
     "name": "stdout",
     "output_type": "stream",
     "text": [
      "180/180 [==============================] - 0s 1ms/step\n",
      "Pred        BELGRADE  DUSSELDORF  MAASTRICHT  OSLO  SONNBLICK\n",
      "True                                                         \n",
      "BASEL           2631         996          25    26          4\n",
      "BELGRADE        1056          36           0     0          0\n",
      "BUDAPEST         211           3           0     0          0\n",
      "DEBILT            82           0           0     0          0\n",
      "DUSSELDORF        29           0           0     0          0\n",
      "HEATHROW          82           0           0     0          0\n",
      "KASSEL            11           0           0     0          0\n",
      "LJUBLJANA         61           0           0     0          0\n",
      "MAASTRICHT         9           0           0     0          0\n",
      "MADRID           438          20           0     0          0\n",
      "MUNCHENB           8           0           0     0          0\n",
      "OSLO               5           0           0     0          0\n",
      "STOCKHOLM          4           0           0     0          0\n",
      "VALENTIA           1           0           0     0          0\n"
     ]
    }
   ],
   "source": [
    "# Evaluate\n",
    "\n",
    "print(confusion_matrix(y_test, model.predict(X_test)))"
   ]
  },
  {
   "cell_type": "markdown",
   "id": "627bd08c-37fd-4939-b49f-31f07b2734cc",
   "metadata": {},
   "source": [
    "This is a huge improved in the loss at just 20% however the accuracy is still very low at 17%\n",
    "<BR> I will adjust the parameters to see if i can get better results."
   ]
  },
  {
   "cell_type": "code",
   "execution_count": 127,
   "id": "52fd66a2-a5d9-417c-a3dc-7d16f09ad46c",
   "metadata": {},
   "outputs": [],
   "source": [
    "epochs = 30\n",
    "batch_size = 16\n",
    "n_hidden = 64\n",
    "\n",
    "timesteps = len(X_train[0])\n",
    "input_dim = len(X_train[0][0])\n",
    "n_classes = len(y_train[0])\n",
    "\n",
    "model = Sequential()\n",
    "model.add(Conv1D(n_hidden, kernel_size=2, activation='relu', input_shape=(timesteps, input_dim)))\n",
    "model.add(Dense(16, activation='relu'))\n",
    "model.add(MaxPooling1D())\n",
    "model.add(Flatten())\n",
    "model.add(Dense(n_classes, activation='tanh')) # Options: sigmoid, tanh, softmax, relu"
   ]
  },
  {
   "cell_type": "code",
   "execution_count": 129,
   "id": "be20fa77-5e99-4802-942a-933d0d26249c",
   "metadata": {},
   "outputs": [
    {
     "name": "stdout",
     "output_type": "stream",
     "text": [
      "Model: \"sequential_3\"\n",
      "_________________________________________________________________\n",
      " Layer (type)                Output Shape              Param #   \n",
      "=================================================================\n",
      " conv1d_3 (Conv1D)           (None, 14, 64)            1216      \n",
      "                                                                 \n",
      " dense_6 (Dense)             (None, 14, 16)            1040      \n",
      "                                                                 \n",
      " max_pooling1d_3 (MaxPooling  (None, 7, 16)            0         \n",
      " 1D)                                                             \n",
      "                                                                 \n",
      " flatten_3 (Flatten)         (None, 112)               0         \n",
      "                                                                 \n",
      " dense_7 (Dense)             (None, 15)                1695      \n",
      "                                                                 \n",
      "=================================================================\n",
      "Total params: 3,951\n",
      "Trainable params: 3,951\n",
      "Non-trainable params: 0\n",
      "_________________________________________________________________\n"
     ]
    }
   ],
   "source": [
    "model.summary()"
   ]
  },
  {
   "cell_type": "code",
   "execution_count": 131,
   "id": "ebe13e66-a398-4d79-aff5-023fc9343f06",
   "metadata": {},
   "outputs": [],
   "source": [
    "model.compile(loss='categorical_crossentropy', optimizer='adam', metrics=['accuracy'])"
   ]
  },
  {
   "cell_type": "code",
   "execution_count": 133,
   "id": "a8b50992-2d0b-4209-8260-03003bb513ed",
   "metadata": {
    "scrolled": true
   },
   "outputs": [
    {
     "name": "stdout",
     "output_type": "stream",
     "text": [
      "Epoch 1/30\n",
      "1076/1076 - 4s - loss: 26.0255 - accuracy: 0.1427 - 4s/epoch - 4ms/step\n",
      "Epoch 2/30\n",
      "1076/1076 - 2s - loss: 24.7721 - accuracy: 0.1515 - 2s/epoch - 2ms/step\n",
      "Epoch 3/30\n",
      "1076/1076 - 2s - loss: 23.2107 - accuracy: 0.1565 - 2s/epoch - 2ms/step\n",
      "Epoch 4/30\n",
      "1076/1076 - 2s - loss: 23.1995 - accuracy: 0.1587 - 2s/epoch - 2ms/step\n",
      "Epoch 5/30\n",
      "1076/1076 - 2s - loss: 22.7932 - accuracy: 0.3494 - 2s/epoch - 2ms/step\n",
      "Epoch 6/30\n",
      "1076/1076 - 2s - loss: 21.9119 - accuracy: 0.4758 - 2s/epoch - 2ms/step\n",
      "Epoch 7/30\n",
      "1076/1076 - 2s - loss: 21.9119 - accuracy: 0.4758 - 2s/epoch - 2ms/step\n",
      "Epoch 8/30\n",
      "1076/1076 - 2s - loss: 21.9119 - accuracy: 0.4758 - 2s/epoch - 2ms/step\n",
      "Epoch 9/30\n",
      "1076/1076 - 3s - loss: 21.9119 - accuracy: 0.4758 - 3s/epoch - 2ms/step\n",
      "Epoch 10/30\n",
      "1076/1076 - 3s - loss: 21.9128 - accuracy: 0.4758 - 3s/epoch - 3ms/step\n",
      "Epoch 11/30\n",
      "1076/1076 - 4s - loss: 21.9128 - accuracy: 0.4758 - 4s/epoch - 4ms/step\n",
      "Epoch 12/30\n",
      "1076/1076 - 4s - loss: 21.9119 - accuracy: 0.4758 - 4s/epoch - 4ms/step\n",
      "Epoch 13/30\n",
      "1076/1076 - 4s - loss: 21.9128 - accuracy: 0.4758 - 4s/epoch - 4ms/step\n",
      "Epoch 14/30\n",
      "1076/1076 - 4s - loss: 21.9166 - accuracy: 0.4758 - 4s/epoch - 4ms/step\n",
      "Epoch 15/30\n",
      "1076/1076 - 5s - loss: 21.9175 - accuracy: 0.4758 - 5s/epoch - 4ms/step\n",
      "Epoch 16/30\n",
      "1076/1076 - 4s - loss: 21.9175 - accuracy: 0.4758 - 4s/epoch - 4ms/step\n",
      "Epoch 17/30\n",
      "1076/1076 - 4s - loss: 21.9409 - accuracy: 0.4758 - 4s/epoch - 4ms/step\n",
      "Epoch 18/30\n",
      "1076/1076 - 4s - loss: 25.0499 - accuracy: 0.4729 - 4s/epoch - 4ms/step\n",
      "Epoch 19/30\n",
      "1076/1076 - 5s - loss: 25.2512 - accuracy: 0.4703 - 5s/epoch - 4ms/step\n",
      "Epoch 20/30\n",
      "1076/1076 - 4s - loss: 25.2512 - accuracy: 0.4702 - 4s/epoch - 4ms/step\n",
      "Epoch 21/30\n",
      "1076/1076 - 4s - loss: 25.2512 - accuracy: 0.4702 - 4s/epoch - 4ms/step\n",
      "Epoch 22/30\n",
      "1076/1076 - 4s - loss: 25.2512 - accuracy: 0.4701 - 4s/epoch - 4ms/step\n",
      "Epoch 23/30\n",
      "1076/1076 - 5s - loss: 25.2512 - accuracy: 0.4701 - 5s/epoch - 4ms/step\n",
      "Epoch 24/30\n",
      "1076/1076 - 4s - loss: 25.2512 - accuracy: 0.4700 - 4s/epoch - 4ms/step\n",
      "Epoch 25/30\n",
      "1076/1076 - 4s - loss: 25.2512 - accuracy: 0.4700 - 4s/epoch - 4ms/step\n",
      "Epoch 26/30\n",
      "1076/1076 - 4s - loss: 25.2512 - accuracy: 0.4700 - 4s/epoch - 4ms/step\n",
      "Epoch 27/30\n",
      "1076/1076 - 5s - loss: 25.2512 - accuracy: 0.4698 - 5s/epoch - 4ms/step\n",
      "Epoch 28/30\n",
      "1076/1076 - 4s - loss: 25.2512 - accuracy: 0.4698 - 4s/epoch - 4ms/step\n",
      "Epoch 29/30\n",
      "1076/1076 - 4s - loss: 25.2512 - accuracy: 0.4698 - 4s/epoch - 4ms/step\n",
      "Epoch 30/30\n",
      "1076/1076 - 4s - loss: 25.2512 - accuracy: 0.4698 - 4s/epoch - 4ms/step\n"
     ]
    },
    {
     "data": {
      "text/plain": [
       "<keras.callbacks.History at 0x1b6aeafe220>"
      ]
     },
     "execution_count": 133,
     "metadata": {},
     "output_type": "execute_result"
    }
   ],
   "source": [
    "model.fit(X_train, y_train, batch_size=batch_size, epochs=epochs, verbose=2)"
   ]
  },
  {
   "cell_type": "code",
   "execution_count": 135,
   "id": "740470ce-466d-4ceb-a602-65d5647082ca",
   "metadata": {},
   "outputs": [],
   "source": [
    "def confusion_matrix(y_true, y_pred):\n",
    "    y_true = pd.Series([stations[y] for y in np.argmax(y_true, axis=1)])\n",
    "    y_pred = pd.Series([stations[y] for y in np.argmax(y_pred, axis=1)])\n",
    "\n",
    "    return pd.crosstab(y_true, y_pred, rownames=['True'], colnames=['Pred'])"
   ]
  },
  {
   "cell_type": "code",
   "execution_count": 137,
   "id": "835c4746-748f-43cc-a9a4-fdfb808c3501",
   "metadata": {},
   "outputs": [
    {
     "name": "stdout",
     "output_type": "stream",
     "text": [
      "180/180 [==============================] - 0s 1ms/step\n",
      "Pred        BASEL  BELGRADE  BUDAPEST  HEATHROW\n",
      "True                                           \n",
      "BASEL        2779       330       323       250\n",
      "BELGRADE     1090         2         0         0\n",
      "BUDAPEST      214         0         0         0\n",
      "DEBILT         82         0         0         0\n",
      "DUSSELDORF     29         0         0         0\n",
      "HEATHROW       82         0         0         0\n",
      "KASSEL         11         0         0         0\n",
      "LJUBLJANA      61         0         0         0\n",
      "MAASTRICHT      9         0         0         0\n",
      "MADRID        448         7         2         1\n",
      "MUNCHENB        8         0         0         0\n",
      "OSLO            5         0         0         0\n",
      "STOCKHOLM       4         0         0         0\n",
      "VALENTIA        1         0         0         0\n"
     ]
    }
   ],
   "source": [
    "# Evaluate\n",
    "\n",
    "print(confusion_matrix(y_test, model.predict(X_test)))"
   ]
  },
  {
   "cell_type": "markdown",
   "id": "718f8342-6416-4d99-9d8f-a3eff0763350",
   "metadata": {},
   "source": [
    "There is an improvement with adjusted parameters, while the loss has increased to 24% the accuracy has increasded to 46%. \n",
    "<BR> I will try a different activation funnction to see if I can get better results."
   ]
  },
  {
   "cell_type": "markdown",
   "id": "a397c335-1bec-4f50-a1f6-340198e9b813",
   "metadata": {},
   "source": [
    "### 9. sigmoid"
   ]
  },
  {
   "cell_type": "code",
   "execution_count": 144,
   "id": "2b0aeade-c297-4ba1-a013-9011793b1de3",
   "metadata": {},
   "outputs": [],
   "source": [
    "epochs = 30\n",
    "batch_size = 16\n",
    "n_hidden = 64\n",
    "\n",
    "timesteps = len(X_train[0])\n",
    "input_dim = len(X_train[0][0])\n",
    "n_classes = len(y_train[0])\n",
    "\n",
    "model = Sequential()\n",
    "model.add(Conv1D(n_hidden, kernel_size=2, activation='relu', input_shape=(timesteps, input_dim)))\n",
    "model.add(Dense(16, activation='relu'))\n",
    "model.add(MaxPooling1D())\n",
    "model.add(Flatten())\n",
    "model.add(Dense(n_classes, activation='sigmoid')) # Options: sigmoid, tanh, softmax, relu"
   ]
  },
  {
   "cell_type": "code",
   "execution_count": 146,
   "id": "436f9fb9-9d03-4a66-ae7c-ab3a855bb141",
   "metadata": {},
   "outputs": [
    {
     "name": "stdout",
     "output_type": "stream",
     "text": [
      "Model: \"sequential_4\"\n",
      "_________________________________________________________________\n",
      " Layer (type)                Output Shape              Param #   \n",
      "=================================================================\n",
      " conv1d_4 (Conv1D)           (None, 14, 64)            1216      \n",
      "                                                                 \n",
      " dense_8 (Dense)             (None, 14, 16)            1040      \n",
      "                                                                 \n",
      " max_pooling1d_4 (MaxPooling  (None, 7, 16)            0         \n",
      " 1D)                                                             \n",
      "                                                                 \n",
      " flatten_4 (Flatten)         (None, 112)               0         \n",
      "                                                                 \n",
      " dense_9 (Dense)             (None, 15)                1695      \n",
      "                                                                 \n",
      "=================================================================\n",
      "Total params: 3,951\n",
      "Trainable params: 3,951\n",
      "Non-trainable params: 0\n",
      "_________________________________________________________________\n"
     ]
    }
   ],
   "source": [
    "model.summary()"
   ]
  },
  {
   "cell_type": "code",
   "execution_count": 148,
   "id": "2755b585-abd3-495a-935b-659b7def4712",
   "metadata": {},
   "outputs": [],
   "source": [
    "model.compile(loss='categorical_crossentropy', optimizer='adam', metrics=['accuracy'])"
   ]
  },
  {
   "cell_type": "code",
   "execution_count": 150,
   "id": "a2ce6fad-6692-4708-b6bc-4e3d30408428",
   "metadata": {
    "scrolled": true
   },
   "outputs": [
    {
     "name": "stdout",
     "output_type": "stream",
     "text": [
      "Epoch 1/30\n",
      "1076/1076 - 2s - loss: 8363.2314 - accuracy: 0.0973 - 2s/epoch - 2ms/step\n",
      "Epoch 2/30\n",
      "1076/1076 - 2s - loss: 97694.8516 - accuracy: 0.1222 - 2s/epoch - 2ms/step\n",
      "Epoch 3/30\n",
      "1076/1076 - 2s - loss: 316862.4375 - accuracy: 0.1272 - 2s/epoch - 2ms/step\n",
      "Epoch 4/30\n",
      "1076/1076 - 2s - loss: 724619.9375 - accuracy: 0.1309 - 2s/epoch - 2ms/step\n",
      "Epoch 5/30\n",
      "1076/1076 - 2s - loss: 1305294.2500 - accuracy: 0.1314 - 2s/epoch - 2ms/step\n",
      "Epoch 6/30\n",
      "1076/1076 - 2s - loss: 2070742.3750 - accuracy: 0.1332 - 2s/epoch - 2ms/step\n",
      "Epoch 7/30\n",
      "1076/1076 - 2s - loss: 3023639.0000 - accuracy: 0.1286 - 2s/epoch - 2ms/step\n",
      "Epoch 8/30\n",
      "1076/1076 - 2s - loss: 4225840.0000 - accuracy: 0.1258 - 2s/epoch - 2ms/step\n",
      "Epoch 9/30\n",
      "1076/1076 - 2s - loss: 5653080.0000 - accuracy: 0.1225 - 2s/epoch - 2ms/step\n",
      "Epoch 10/30\n",
      "1076/1076 - 3s - loss: 7359438.5000 - accuracy: 0.1274 - 3s/epoch - 3ms/step\n",
      "Epoch 11/30\n",
      "1076/1076 - 4s - loss: 9311319.0000 - accuracy: 0.1270 - 4s/epoch - 3ms/step\n",
      "Epoch 12/30\n",
      "1076/1076 - 4s - loss: 11498903.0000 - accuracy: 0.1288 - 4s/epoch - 4ms/step\n",
      "Epoch 13/30\n",
      "1076/1076 - 4s - loss: 14297099.0000 - accuracy: 0.1293 - 4s/epoch - 4ms/step\n",
      "Epoch 14/30\n",
      "1076/1076 - 4s - loss: 17193448.0000 - accuracy: 0.1246 - 4s/epoch - 4ms/step\n",
      "Epoch 15/30\n",
      "1076/1076 - 4s - loss: 20651068.0000 - accuracy: 0.1257 - 4s/epoch - 4ms/step\n",
      "Epoch 16/30\n",
      "1076/1076 - 5s - loss: 24150992.0000 - accuracy: 0.1255 - 5s/epoch - 4ms/step\n",
      "Epoch 17/30\n",
      "1076/1076 - 4s - loss: 28245828.0000 - accuracy: 0.1235 - 4s/epoch - 4ms/step\n",
      "Epoch 18/30\n",
      "1076/1076 - 4s - loss: 32845206.0000 - accuracy: 0.1260 - 4s/epoch - 4ms/step\n",
      "Epoch 19/30\n",
      "1076/1076 - 4s - loss: 37875964.0000 - accuracy: 0.1247 - 4s/epoch - 4ms/step\n",
      "Epoch 20/30\n",
      "1076/1076 - 5s - loss: 43415172.0000 - accuracy: 0.1247 - 5s/epoch - 4ms/step\n",
      "Epoch 21/30\n",
      "1076/1076 - 4s - loss: 49186500.0000 - accuracy: 0.1239 - 4s/epoch - 4ms/step\n",
      "Epoch 22/30\n",
      "1076/1076 - 4s - loss: 56032444.0000 - accuracy: 0.1250 - 4s/epoch - 4ms/step\n",
      "Epoch 23/30\n",
      "1076/1076 - 4s - loss: 62430152.0000 - accuracy: 0.1235 - 4s/epoch - 4ms/step\n",
      "Epoch 24/30\n",
      "1076/1076 - 4s - loss: 70322064.0000 - accuracy: 0.1228 - 4s/epoch - 4ms/step\n",
      "Epoch 25/30\n",
      "1076/1076 - 4s - loss: 78071640.0000 - accuracy: 0.1185 - 4s/epoch - 4ms/step\n",
      "Epoch 26/30\n",
      "1076/1076 - 4s - loss: 86585792.0000 - accuracy: 0.1252 - 4s/epoch - 4ms/step\n",
      "Epoch 27/30\n",
      "1076/1076 - 4s - loss: 95482216.0000 - accuracy: 0.1233 - 4s/epoch - 4ms/step\n",
      "Epoch 28/30\n",
      "1076/1076 - 4s - loss: 105357248.0000 - accuracy: 0.1226 - 4s/epoch - 4ms/step\n",
      "Epoch 29/30\n",
      "1076/1076 - 5s - loss: 116963808.0000 - accuracy: 0.1221 - 5s/epoch - 5ms/step\n",
      "Epoch 30/30\n",
      "1076/1076 - 4s - loss: 127950000.0000 - accuracy: 0.1210 - 4s/epoch - 4ms/step\n"
     ]
    },
    {
     "data": {
      "text/plain": [
       "<keras.callbacks.History at 0x1b6af6b28b0>"
      ]
     },
     "execution_count": 150,
     "metadata": {},
     "output_type": "execute_result"
    }
   ],
   "source": [
    "model.fit(X_train, y_train, batch_size=batch_size, epochs=epochs, verbose=2)"
   ]
  },
  {
   "cell_type": "code",
   "execution_count": 152,
   "id": "a85db477-2823-4116-afd2-7e8a08fb72df",
   "metadata": {},
   "outputs": [],
   "source": [
    "def confusion_matrix(y_true, y_pred):\n",
    "    y_true = pd.Series([stations[y] for y in np.argmax(y_true, axis=1)])\n",
    "    y_pred = pd.Series([stations[y] for y in np.argmax(y_pred, axis=1)])\n",
    "\n",
    "    return pd.crosstab(y_true, y_pred, rownames=['True'], colnames=['Pred'])"
   ]
  },
  {
   "cell_type": "code",
   "execution_count": 154,
   "id": "9270bed5-cbdc-41f7-8dc3-53141dc09d8e",
   "metadata": {},
   "outputs": [
    {
     "name": "stdout",
     "output_type": "stream",
     "text": [
      "180/180 [==============================] - 0s 1ms/step\n",
      "Pred        BASEL\n",
      "True             \n",
      "BASEL        3682\n",
      "BELGRADE     1092\n",
      "BUDAPEST      214\n",
      "DEBILT         82\n",
      "DUSSELDORF     29\n",
      "HEATHROW       82\n",
      "KASSEL         11\n",
      "LJUBLJANA      61\n",
      "MAASTRICHT      9\n",
      "MADRID        458\n",
      "MUNCHENB        8\n",
      "OSLO            5\n",
      "STOCKHOLM       4\n",
      "VALENTIA        1\n"
     ]
    }
   ],
   "source": [
    "# Evaluate\n",
    "\n",
    "print(confusion_matrix(y_test, model.predict(X_test)))"
   ]
  },
  {
   "cell_type": "markdown",
   "id": "4994e8b9-a5ce-4d7f-a670-d3124298d326",
   "metadata": {},
   "source": [
    "The results from Sigmoid seem to be worse than the other 2 activition functions used. \n",
    "<BR> I will try Relu."
   ]
  },
  {
   "cell_type": "markdown",
   "id": "a752621c-8e91-46cd-bcdb-bca1c3129a52",
   "metadata": {},
   "source": [
    "### 10. Relu"
   ]
  },
  {
   "cell_type": "code",
   "execution_count": 159,
   "id": "9e205ca8-2729-46d9-b5a8-088a8d6f7beb",
   "metadata": {},
   "outputs": [],
   "source": [
    "epochs = 15\n",
    "batch_size = 4\n",
    "n_hidden = 4\n",
    "\n",
    "timesteps = len(X_train[0])\n",
    "input_dim = len(X_train[0][0])\n",
    "n_classes = len(y_train[0])\n",
    "\n",
    "model = Sequential()\n",
    "model.add(Conv1D(n_hidden, kernel_size=2, activation='relu', input_shape=(timesteps, input_dim)))\n",
    "model.add(Dense(16, activation='relu'))\n",
    "model.add(MaxPooling1D())\n",
    "model.add(Flatten())\n",
    "model.add(Dense(n_classes, activation='relu')) # Options: sigmoid, tanh, softmax, relu"
   ]
  },
  {
   "cell_type": "code",
   "execution_count": 161,
   "id": "f891d0db-f274-4f19-95e1-571b31744205",
   "metadata": {},
   "outputs": [
    {
     "name": "stdout",
     "output_type": "stream",
     "text": [
      "Model: \"sequential_5\"\n",
      "_________________________________________________________________\n",
      " Layer (type)                Output Shape              Param #   \n",
      "=================================================================\n",
      " conv1d_5 (Conv1D)           (None, 14, 4)             76        \n",
      "                                                                 \n",
      " dense_10 (Dense)            (None, 14, 16)            80        \n",
      "                                                                 \n",
      " max_pooling1d_5 (MaxPooling  (None, 7, 16)            0         \n",
      " 1D)                                                             \n",
      "                                                                 \n",
      " flatten_5 (Flatten)         (None, 112)               0         \n",
      "                                                                 \n",
      " dense_11 (Dense)            (None, 15)                1695      \n",
      "                                                                 \n",
      "=================================================================\n",
      "Total params: 1,851\n",
      "Trainable params: 1,851\n",
      "Non-trainable params: 0\n",
      "_________________________________________________________________\n"
     ]
    }
   ],
   "source": [
    "model.summary()"
   ]
  },
  {
   "cell_type": "code",
   "execution_count": 163,
   "id": "340b9507-fcd5-410d-a6e7-f28980a077a3",
   "metadata": {},
   "outputs": [],
   "source": [
    "model.compile(loss='categorical_crossentropy', optimizer='adam', metrics=['accuracy'])"
   ]
  },
  {
   "cell_type": "code",
   "execution_count": 165,
   "id": "ed39da3a-63b3-4666-a9c4-3223a577d1a1",
   "metadata": {
    "scrolled": true
   },
   "outputs": [
    {
     "name": "stdout",
     "output_type": "stream",
     "text": [
      "Epoch 1/15\n",
      "4303/4303 - 7s - loss: nan - accuracy: 0.3129 - 7s/epoch - 2ms/step\n",
      "Epoch 2/15\n",
      "4303/4303 - 7s - loss: nan - accuracy: 0.6440 - 7s/epoch - 2ms/step\n",
      "Epoch 3/15\n",
      "4303/4303 - 9s - loss: nan - accuracy: 0.6440 - 9s/epoch - 2ms/step\n",
      "Epoch 4/15\n",
      "4303/4303 - 13s - loss: nan - accuracy: 0.6440 - 13s/epoch - 3ms/step\n",
      "Epoch 5/15\n",
      "4303/4303 - 13s - loss: nan - accuracy: 0.6440 - 13s/epoch - 3ms/step\n",
      "Epoch 6/15\n",
      "4303/4303 - 15s - loss: nan - accuracy: 0.6440 - 15s/epoch - 3ms/step\n",
      "Epoch 7/15\n",
      "4303/4303 - 14s - loss: nan - accuracy: 0.6440 - 14s/epoch - 3ms/step\n",
      "Epoch 8/15\n",
      "4303/4303 - 14s - loss: nan - accuracy: 0.6440 - 14s/epoch - 3ms/step\n",
      "Epoch 9/15\n",
      "4303/4303 - 14s - loss: nan - accuracy: 0.6440 - 14s/epoch - 3ms/step\n",
      "Epoch 10/15\n",
      "4303/4303 - 14s - loss: nan - accuracy: 0.6440 - 14s/epoch - 3ms/step\n",
      "Epoch 11/15\n",
      "4303/4303 - 14s - loss: nan - accuracy: 0.6440 - 14s/epoch - 3ms/step\n",
      "Epoch 12/15\n",
      "4303/4303 - 14s - loss: nan - accuracy: 0.6440 - 14s/epoch - 3ms/step\n",
      "Epoch 13/15\n",
      "4303/4303 - 13s - loss: nan - accuracy: 0.6440 - 13s/epoch - 3ms/step\n",
      "Epoch 14/15\n",
      "4303/4303 - 14s - loss: nan - accuracy: 0.6440 - 14s/epoch - 3ms/step\n",
      "Epoch 15/15\n",
      "4303/4303 - 15s - loss: nan - accuracy: 0.6440 - 15s/epoch - 3ms/step\n"
     ]
    },
    {
     "data": {
      "text/plain": [
       "<keras.callbacks.History at 0x1b6a62a0220>"
      ]
     },
     "execution_count": 165,
     "metadata": {},
     "output_type": "execute_result"
    }
   ],
   "source": [
    "model.fit(X_train, y_train, batch_size=batch_size, epochs=epochs, verbose=2)"
   ]
  },
  {
   "cell_type": "code",
   "execution_count": 167,
   "id": "6db0437b-10e4-4e18-973f-84805143fac7",
   "metadata": {},
   "outputs": [],
   "source": [
    "def confusion_matrix(y_true, y_pred):\n",
    "    y_true = pd.Series([stations[y] for y in np.argmax(y_true, axis=1)])\n",
    "    y_pred = pd.Series([stations[y] for y in np.argmax(y_pred, axis=1)])\n",
    "\n",
    "    return pd.crosstab(y_true, y_pred, rownames=['True'], colnames=['Pred'])"
   ]
  },
  {
   "cell_type": "code",
   "execution_count": 169,
   "id": "7b5a09c5-cce5-4a98-b2ec-44117bac9dc6",
   "metadata": {},
   "outputs": [
    {
     "name": "stdout",
     "output_type": "stream",
     "text": [
      "180/180 [==============================] - 0s 952us/step\n",
      "Pred        BASEL\n",
      "True             \n",
      "BASEL        3682\n",
      "BELGRADE     1092\n",
      "BUDAPEST      214\n",
      "DEBILT         82\n",
      "DUSSELDORF     29\n",
      "HEATHROW       82\n",
      "KASSEL         11\n",
      "LJUBLJANA      61\n",
      "MAASTRICHT      9\n",
      "MADRID        458\n",
      "MUNCHENB        8\n",
      "OSLO            5\n",
      "STOCKHOLM       4\n",
      "VALENTIA        1\n"
     ]
    }
   ],
   "source": [
    "# Evaluate\n",
    "\n",
    "print(confusion_matrix(y_test, model.predict(X_test)))"
   ]
  },
  {
   "cell_type": "code",
   "execution_count": null,
   "id": "e2d5f48d-6317-4dd4-92f8-a6c057e613dc",
   "metadata": {},
   "outputs": [],
   "source": []
  }
 ],
 "metadata": {
  "kernelspec": {
   "display_name": "Python 3 (ipykernel)",
   "language": "python",
   "name": "python3"
  },
  "language_info": {
   "codemirror_mode": {
    "name": "ipython",
    "version": 3
   },
   "file_extension": ".py",
   "mimetype": "text/x-python",
   "name": "python",
   "nbconvert_exporter": "python",
   "pygments_lexer": "ipython3",
   "version": "3.12.4"
  }
 },
 "nbformat": 4,
 "nbformat_minor": 5
}
